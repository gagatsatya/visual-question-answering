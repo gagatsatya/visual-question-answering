{
 "cells": [
  {
   "cell_type": "markdown",
   "metadata": {
    "id": "VljPGwOLCGoj"
   },
   "source": [
    "## 1. Import libraries"
   ]
  },
  {
   "cell_type": "code",
   "execution_count": 1,
   "metadata": {
    "colab": {
     "base_uri": "https://localhost:8080/"
    },
    "id": "GDQOIWThaT1p",
    "outputId": "02370dd6-259d-4eca-f22b-18ad41e90e9e"
   },
   "outputs": [
    {
     "name": "stdout",
     "output_type": "stream",
     "text": [
      "Mounted at /content/drive\n"
     ]
    }
   ],
   "source": [
    "from google.colab import drive\n",
    "drive.mount('/content/drive')"
   ]
  },
  {
   "cell_type": "code",
   "execution_count": 2,
   "metadata": {
    "colab": {
     "base_uri": "https://localhost:8080/"
    },
    "id": "KDAACoro5r38",
    "outputId": "770a3579-8a78-40a5-ba95-29512386b340"
   },
   "outputs": [
    {
     "name": "stdout",
     "output_type": "stream",
     "text": [
      "\u001b[2K     \u001b[90m━━━━━━━━━━━━━━━━━━━━━━━━━━━━━━━━━━━━━━━━\u001b[0m \u001b[32m2.3/2.3 MB\u001b[0m \u001b[31m15.2 MB/s\u001b[0m eta \u001b[36m0:00:00\u001b[0m\n",
      "\u001b[2K     \u001b[90m━━━━━━━━━━━━━━━━━━━━━━━━━━━━━━━━━━━━━━━━\u001b[0m \u001b[32m21.3/21.3 MB\u001b[0m \u001b[31m65.0 MB/s\u001b[0m eta \u001b[36m0:00:00\u001b[0m\n",
      "\u001b[?25h"
     ]
    }
   ],
   "source": [
    "!pip install timm -q"
   ]
  },
  {
   "cell_type": "code",
   "execution_count": 3,
   "metadata": {
    "colab": {
     "base_uri": "https://localhost:8080/"
    },
    "id": "zwmJUbxKCPjS",
    "outputId": "39a012b1-5b4f-4f11-a64a-5e6c71bab3ba"
   },
   "outputs": [
    {
     "name": "stderr",
     "output_type": "stream",
     "text": [
      "/usr/local/lib/python3.10/dist-packages/torchtext/data/__init__.py:4: UserWarning: \n",
      "/!\\ IMPORTANT WARNING ABOUT TORCHTEXT STATUS /!\\ \n",
      "Torchtext is deprecated and the last released version will be 0.18 (this one). You can silence this warning by calling the following at the beginnign of your scripts: `import torchtext; torchtext.disable_torchtext_deprecation_warning()`\n",
      "  warnings.warn(torchtext._TORCHTEXT_DEPRECATION_MSG)\n",
      "/usr/local/lib/python3.10/dist-packages/torchtext/vocab/__init__.py:4: UserWarning: \n",
      "/!\\ IMPORTANT WARNING ABOUT TORCHTEXT STATUS /!\\ \n",
      "Torchtext is deprecated and the last released version will be 0.18 (this one). You can silence this warning by calling the following at the beginnign of your scripts: `import torchtext; torchtext.disable_torchtext_deprecation_warning()`\n",
      "  warnings.warn(torchtext._TORCHTEXT_DEPRECATION_MSG)\n",
      "/usr/local/lib/python3.10/dist-packages/torchtext/utils.py:4: UserWarning: \n",
      "/!\\ IMPORTANT WARNING ABOUT TORCHTEXT STATUS /!\\ \n",
      "Torchtext is deprecated and the last released version will be 0.18 (this one). You can silence this warning by calling the following at the beginnign of your scripts: `import torchtext; torchtext.disable_torchtext_deprecation_warning()`\n",
      "  warnings.warn(torchtext._TORCHTEXT_DEPRECATION_MSG)\n"
     ]
    }
   ],
   "source": [
    "import torch\n",
    "import torch.nn as nn\n",
    "import torchtext\n",
    "import os\n",
    "import numpy as np\n",
    "import pandas as pd\n",
    "import spacy\n",
    "import timm\n",
    "import matplotlib.pyplot as plt\n",
    "\n",
    "from PIL import Image\n",
    "from torch.utils.data import Dataset, DataLoader\n",
    "from sklearn.model_selection import train_test_split\n",
    "from torchtext.data.utils import get_tokenizer\n",
    "from torchtext.vocab import build_vocab_from_iterator\n",
    "from torchvision import transforms"
   ]
  },
  {
   "cell_type": "markdown",
   "metadata": {
    "id": "Iu20gzLxCu2y"
   },
   "source": [
    "## 2. Read dataset"
   ]
  },
  {
   "cell_type": "code",
   "execution_count": 110,
   "metadata": {
    "colab": {
     "base_uri": "https://localhost:8080/"
    },
    "id": "wrzRKkUfmW6O",
    "outputId": "3f3c4fcf-899a-49da-e5a6-7ae474d46555"
   },
   "outputs": [
    {
     "name": "stdout",
     "output_type": "stream",
     "text": [
      "                           Class  Count\n",
      "0                              2    554\n",
      "1                          table    421\n",
      "2                          chair    367\n",
      "3                              3    327\n",
      "4                         window    277\n",
      "...                          ...    ...\n",
      "1438           brown, red, black      1\n",
      "1439                 pipe, light      1\n",
      "1440                        4, 6      1\n",
      "1441    white, blue, black, gray      1\n",
      "1442  blue, purple, black, white      1\n",
      "\n",
      "[1443 rows x 2 columns]\n"
     ]
    }
   ],
   "source": [
    "file_path = '/content/drive/MyDrive/Computer Vision/vqa/data.csv'\n",
    "data = pd.read_csv(file_path)\n",
    "\n",
    "class_counts = data['answer'].value_counts()\n",
    "class_counts_df = class_counts.reset_index()\n",
    "class_counts_df.columns = ['Class', 'Count']\n",
    "print(class_counts_df)"
   ]
  },
  {
   "cell_type": "code",
   "execution_count": 112,
   "metadata": {
    "colab": {
     "base_uri": "https://localhost:8080/"
    },
    "id": "Bd9JdCa9yMJK",
    "outputId": "02861885-89c4-43de-bbb2-f5b86b3ad4f5"
   },
   "outputs": [
    {
     "name": "stdout",
     "output_type": "stream",
     "text": [
      "answer\n",
      "2                             300\n",
      "3                             300\n",
      "chair                         300\n",
      "table                         300\n",
      "window                        277\n",
      "                             ... \n",
      "brown, red, black               1\n",
      "pipe, light                     1\n",
      "4, 6                            1\n",
      "white, blue, black, gray        1\n",
      "blue, purple, black, white      1\n",
      "Name: count, Length: 1443, dtype: int64\n"
     ]
    }
   ],
   "source": [
    "# Menghitung jumlah data pada masing-masing class berdasarkan 'answer'\n",
    "class_counts = data['answer'].value_counts()\n",
    "\n",
    "# Identifikasi kelas yang jumlah datanya lebih dari 300\n",
    "classes_to_reduce = class_counts[class_counts > 300].index\n",
    "\n",
    "# Function untuk melakukan undersampling\n",
    "def undersample_class(df, class_name, max_count):\n",
    "    class_df = df[df['answer'] == class_name]\n",
    "    if len(class_df) > max_count:\n",
    "        class_df = class_df.sample(max_count, random_state=42)  # Random state untuk reproduktifitas\n",
    "    return class_df\n",
    "\n",
    "# Membuat dataframe baru dengan jumlah data yang seimbang\n",
    "balanced_data = pd.concat([undersample_class(data, cls, 300) if cls in classes_to_reduce else data[data['answer'] == cls] for cls in data['answer'].unique()])\n",
    "\n",
    "# Menampilkan jumlah data pada masing-masing kelas setelah undersampling\n",
    "print(balanced_data['answer'].value_counts())"
   ]
  },
  {
   "cell_type": "code",
   "execution_count": 114,
   "metadata": {
    "colab": {
     "base_uri": "https://localhost:8080/"
    },
    "id": "pkDjYgbbvIMR",
    "outputId": "b288bb3e-b57d-463d-f6df-96d71922555c"
   },
   "outputs": [
    {
     "name": "stdout",
     "output_type": "stream",
     "text": [
      "Training set size: 9599\n",
      "Testing set size: 1200\n",
      "Validation set size: 1200\n"
     ]
    }
   ],
   "source": [
    "formatted_data = []\n",
    "\n",
    "for index, row in balanced_data.iterrows():\n",
    "    image_id = row['image_id']\n",
    "    question = row['question']\n",
    "    answer = row['answer']\n",
    "\n",
    "    image_path = f'{image_id}.png'\n",
    "\n",
    "    formatted_data.append({\n",
    "        'image_path': image_path,\n",
    "        'question': question,\n",
    "        'answer': answer\n",
    "    })\n",
    "\n",
    "formatted_df = pd.DataFrame(formatted_data)\n",
    "\n",
    "train_df, temp_df = train_test_split(formatted_df, test_size=0.2, random_state=42)\n",
    "\n",
    "test_df, val_df = train_test_split(temp_df, test_size=0.5, random_state=42)\n",
    "\n",
    "print(f\"Training set size: {len(train_df)}\")\n",
    "print(f\"Testing set size: {len(test_df)}\")\n",
    "print(f\"Validation set size: {len(val_df)}\")"
   ]
  },
  {
   "cell_type": "code",
   "execution_count": 115,
   "metadata": {
    "id": "ZOxeYUBvCSki"
   },
   "outputs": [],
   "source": [
    "train_data = []\n",
    "\n",
    "for index, row in train_df.iterrows():\n",
    "    image_path = row['image_path']\n",
    "    question = row['question']\n",
    "    answer = row['answer']\n",
    "\n",
    "    train_data.append({\n",
    "        'image_path': image_path,\n",
    "        'question': question,\n",
    "        'answer': answer\n",
    "    })"
   ]
  },
  {
   "cell_type": "code",
   "execution_count": 116,
   "metadata": {
    "id": "EiZ7OwSfCrKa"
   },
   "outputs": [],
   "source": [
    "val_data = []\n",
    "\n",
    "for index, row in val_df.iterrows():\n",
    "    image_path = row['image_path']\n",
    "    question = row['question']\n",
    "    answer = row['answer']\n",
    "\n",
    "    val_data.append({\n",
    "        'image_path': image_path,\n",
    "        'question': question,\n",
    "        'answer': answer\n",
    "    })"
   ]
  },
  {
   "cell_type": "code",
   "execution_count": 117,
   "metadata": {
    "id": "ZoX0dQbjEx53"
   },
   "outputs": [],
   "source": [
    "test_data = []\n",
    "\n",
    "for index, row in test_df.iterrows():\n",
    "    image_path = row['image_path']\n",
    "    question = row['question']\n",
    "    answer = row['answer']\n",
    "\n",
    "    test_data.append({\n",
    "        'image_path': image_path,\n",
    "        'question': question,\n",
    "        'answer': answer\n",
    "    })"
   ]
  },
  {
   "cell_type": "markdown",
   "metadata": {
    "id": "A_n5-R4NMqBx"
   },
   "source": [
    "## 3. Data Preprocessing"
   ]
  },
  {
   "cell_type": "code",
   "execution_count": 118,
   "metadata": {
    "colab": {
     "base_uri": "https://localhost:8080/"
    },
    "id": "_RqGo2gUNwLW",
    "outputId": "a350f6e5-517f-48cf-aacf-9ded7874d3bd"
   },
   "outputs": [
    {
     "name": "stderr",
     "output_type": "stream",
     "text": [
      "/usr/local/lib/python3.10/dist-packages/spacy/util.py:1740: UserWarning: [W111] Jupyter notebook detected: if using `prefer_gpu()` or `require_gpu()`, include it in the same cell right before `spacy.load()` to ensure that the model is loaded on the correct device. More information: http://spacy.io/usage/v3#jupyter-notebook-gpu\n",
      "  warnings.warn(Warnings.W111)\n"
     ]
    }
   ],
   "source": [
    "eng = spacy.load(\"en_core_web_sm\") # Load the English model to tokenize English text\n",
    "\n",
    "def get_tokens(data_iter):\n",
    "    for sample in data_iter:\n",
    "        question = sample['question']\n",
    "\n",
    "        yield [token.text for token in eng.tokenizer(question)]\n",
    "\n",
    "\n",
    "vocab = build_vocab_from_iterator(\n",
    "    get_tokens(train_data),\n",
    "    min_freq=2,\n",
    "    specials= ['<pad>', '<sos>', '<eos>', '<unk>'],\n",
    "    special_first=True\n",
    ")\n",
    "vocab.set_default_index(vocab['<unk>'])"
   ]
  },
  {
   "cell_type": "code",
   "execution_count": 119,
   "metadata": {
    "colab": {
     "base_uri": "https://localhost:8080/"
    },
    "id": "NDRHRaKyRiq6",
    "outputId": "177eb02c-57e9-47cb-9039-76b1871acf53"
   },
   "outputs": [
    {
     "data": {
      "text/plain": [
       "644"
      ]
     },
     "execution_count": 119,
     "metadata": {},
     "output_type": "execute_result"
    }
   ],
   "source": [
    "len(vocab)"
   ]
  },
  {
   "cell_type": "code",
   "execution_count": 120,
   "metadata": {
    "id": "G8cMLRR5Nyrm"
   },
   "outputs": [],
   "source": [
    "def tokenize(question, max_seq_len):\n",
    "    tokens = [token.text for token in eng.tokenizer(question)]\n",
    "    sequence = [vocab[token] for token in tokens]\n",
    "    if len(sequence) < max_seq_len:\n",
    "        sequence += [vocab['<pad>']] * (max_seq_len - len(sequence))\n",
    "    else:\n",
    "        sequence = sequence[:max_seq_len]\n",
    "\n",
    "    return sequence"
   ]
  },
  {
   "cell_type": "code",
   "execution_count": 121,
   "metadata": {
    "colab": {
     "base_uri": "https://localhost:8080/"
    },
    "id": "GNfi1xqHTDgA",
    "outputId": "5dd9d254-d296-46a4-b608-02317226f9aa"
   },
   "outputs": [
    {
     "data": {
      "text/plain": [
       "[3, 211, 32, 9, 22, 3, 0, 0, 0, 0, 0, 0, 0, 0, 0, 0, 0, 0, 0, 0]"
      ]
     },
     "execution_count": 121,
     "metadata": {},
     "output_type": "execute_result"
    }
   ],
   "source": [
    "example_question = \"How man chairs are there?\"\n",
    "max_seq_len = 20\n",
    "\n",
    "tokenize(example_question, max_seq_len)"
   ]
  },
  {
   "cell_type": "code",
   "execution_count": 122,
   "metadata": {
    "colab": {
     "base_uri": "https://localhost:8080/"
    },
    "id": "3nGiGEPEsMQ3",
    "outputId": "8549d3ac-7046-45b8-9dff-41938e6d490f"
   },
   "outputs": [
    {
     "name": "stdout",
     "output_type": "stream",
     "text": [
      "{0: 'clothes, papers, cup, salt_and_pepper', 1: 'vase, banana', 2: 'tape', 3: 'clothes, paper', 4: 'soap, bottle_of_liquid, hand_sanitizer, toothpaste, face_wash_cream', 5: 'shelf_frame, picture, wall_decoration', 6: 'book, box, glass', 7: 'air_conditioner', 8: 'fan, light', 9: 'toy_triangle', 10: 'basket, hair_dryer', 11: 'glass_ware', 12: 'certificate', 13: 'coffee_machine, juicer', 14: 'treadmill', 15: 'indoor_fountain', 16: 'coffee_packet, cup', 17: 'hanging_hooks', 18: 'excercise_ball', 19: 'laptop, printer', 20: 'bed, books', 21: 'remote_control, radio', 22: 'pineapple, banana', 23: 'microwave', 24: 'container, bag', 25: 'sponge, bottle_of_liquid', 26: 'magnet', 27: 'package_of_bedroom_sheets, pillow', 28: 'lamp, papers, bottle', 29: 'monitor, keyboard, mouse, computer, paper', 30: 'table, box', 31: 'microwave, bottle, fruit, paper', 32: 'blue, yellow', 33: 'display_board', 34: 'keyboard, mouse, mouse_pad', 35: 'jug', 36: 'paper, console_controller, remote_control', 37: 'drawer_knob', 38: 'book, bag', 39: 'books, toy, papers', 40: 'laptop, mouse, books, pen, paper', 41: '2', 42: 'kitchen_items', 43: 'sink, bowl, plant, kitchen_utensils', 44: 'blinds, curtain', 45: 'map, globe', 46: 'cork_board', 47: 'lamp, books, photo', 48: 'photo, certificate', 49: 'fish_tank', 50: 'display_case', 51: 'envelope', 52: 'pineapple', 53: 'white, blue, black, pink, green', 54: 'monitor, mouse, speaker, book', 55: 'shirts_in_hanger', 56: 'book, clock', 57: 'photo, books, bowl, toy', 58: 'books, picture', 59: 'paper_holder, paper', 60: 'towel, telephone, toy', 61: 'vase, show_piece', 62: 'telephone, chair', 63: 'books, toy, photo', 64: 'file, wallet', 65: 'clothes, tea_kettle', 66: 'fruit_basket', 67: 'stapler, tape_dispenser, paper_holder', 68: 'decorative_dish', 69: 'bag, flower', 70: 'clock, photo, toy, books', 71: '4', 72: 'bag', 73: 'game_table, chair', 74: 'bed_sheets, map', 75: 'banister', 76: 'towel', 77: 'pillow, toy', 78: 'table, lamp', 79: 'book, tissue_box', 80: 'jar', 81: 'toys_rack, chair, table', 82: 'glass_rack', 83: 'sign', 84: 'desk', 85: 'blanket, pillow, paper', 86: 'photo, towel', 87: 'whiteboard_marker, duster', 88: 'decorative_plate, wall_decoration', 89: 'clothing_iron', 90: 'tea_pot', 91: 'lamp, tissue_box, book', 92: 'black, white, brown', 93: 'black, red', 94: 'chair, stool', 95: 'toothbrush_holder, toothpaste_holder', 96: 'bottle_of_perfume', 97: 'cup', 98: 'lamp, container_of_skin_cream', 99: 'toy_house', 100: 'coke_bottle', 101: 'brown, red, black', 102: 'pen_cup, paper', 103: 'cup, water_dispenser', 104: 'red, blue, black, white', 105: 'picture, poster_board', 106: 'printer, clothes', 107: 'book, magazine', 108: 'pillow, blanket, clothes', 109: 'toy, photo, toy_house, toy_horse', 110: 'mirror, bottle, towel', 111: 'stove_burner', 112: 'lamp, picture', 113: 'pillow, blanket, toy', 114: 'bowl, spoon, plate', 115: 'eye_glasses', 116: 'hat', 117: 'basketball', 118: 'photo, television, dvd_player', 119: 'wire', 120: 'alarm_clock', 121: 'pillow, doll', 122: 'coffee_pot, vessel', 123: 'glass, container, bottle, decorative_item', 124: 'tissue, bottle_of_liquid, knife', 125: 'books, papers', 126: 'plate, paper', 127: 'bottle, toaster, cup, dish_brush', 128: 'globe, globe_stand', 129: 'dvd_player, book', 130: 'keyboard', 131: 'black, purple, blue, pink', 132: 'decorative_item, picture', 133: 'plate, spoon', 134: 'dish_scrubber', 135: 'room_divider', 136: 'pillow, comforter', 137: 'television, picture', 138: 'lamp, alarm_clock, book', 139: 'printer, monitor, paper, tissue_box', 140: 'doll_house', 141: 'soap', 142: 'plant_pot, books, can', 143: 'cutting_board', 144: 'flask, book, lamp, cup, pillow', 145: 'tissue_box, sink', 146: 'bag, garbage_bin, paper', 147: 'bottle, bag, bowl, cup', 148: 'pink, white', 149: 'garbage_bag', 150: 'computer, books, basket, cordless_phone', 151: 'decoration_item, books', 152: 'green, blue, gray', 153: 'book, paper', 154: 'coffee_machine, coffee_pot', 155: 'toy, bag', 156: 'spice_bottle', 157: 'lamp, tissue_box', 158: 'lamp, toy_doll, pen_cup', 159: 'pen, paper', 160: 'bowl, plate, trophy', 161: 'dvds', 162: 'mirror, table, chair', 163: 'washing_machine', 164: 'white, yellow, red, blue', 165: 'yellow, orange, black, purple', 166: 'air_vent, light, fire_alarm', 167: 'photo, bottle', 168: 'toy_doll, picture', 169: 'monitor, pen_holder, hand_sanitizer, tissue, file_holder, paper', 170: 'cat_cage', 171: 'clothing_hanger', 172: 'paper, decorative_item', 173: 'table, sofa', 174: 'plastic_box, container', 175: 'flask', 176: 'papers, book', 177: 'cup, bottle', 178: 'papers', 179: 'bin', 180: 'books, cream_tube', 181: 'lamp, toy, paper, pen', 182: 'lamp, books, paper', 183: 'alarm_clock, tissue_box', 184: 'plate, bowl', 185: 'table, box, bottle', 186: 'water_dispenser', 187: 'tissue_roll', 188: 'telephone_cord', 189: 'light, sink', 190: 'stool, cabinet', 191: 'green, blue, red', 192: 'lamp, telephone, photo', 193: 'book, carton, bottle', 194: 'vase, sink, monitor, bottle', 195: 'desk, box', 196: 'plate, cutting_board, cup, bottle, spoon', 197: 'tissue_box, book', 198: 'map, sheet', 199: 'incense_holder', 200: 'green, white', 201: 'water_purifier', 202: 'chair, plant, pillow', 203: 'pillow, clothes, bag', 204: 'hair_brush, bottle_of_hand_wash_liquid, toothbrush_holder, toothbrush, faucet, faucet_handle', 205: 'towel, paper', 206: 'chair', 207: 'poster_board, mirror', 208: 'step_stool', 209: 'toy_box', 210: 'projector_screen', 211: 'toy, jar', 212: 'pillow, paper', 213: 'iphone', 214: 'mask', 215: 'curtain', 216: 'grandfather_clock', 217: 'clothing_dryer', 218: 'glass_set', 219: 'plant', 220: 'lamp, photo, decorative_item', 221: 'plate, cup, bottle, spoon, bag', 222: 'purse', 223: 'typewriter', 224: 'hole_puncher', 225: 'candelabra, books, chessboard, decoration_item', 226: 'aluminium_foil', 227: 'vase', 228: 'toy, clothes', 229: 'decoration_item, clothes', 230: 'map', 231: 'lamp, tray, bottle, toy', 232: 'yellow, red', 233: 'clothing_drying_rack', 234: 'coffee_grinder, papers', 235: 'decorative_candle', 236: 'hat, carton', 237: 'bed, pillow', 238: 'cable_box', 239: 'file_holder, pen_holder', 240: 'papers, clothes', 241: 'bag, garbage_bin, shoe, clothes, bottle', 242: 'dog_bed, floor_mat, wire', 243: 'bottle', 244: 'light_bulb, towel', 245: 'microphone_stand', 246: 'can_of_beer', 247: 'telephone', 248: 'books, clothes, comb', 249: 'blinds', 250: 'black, blue, white', 251: 'pool_ball', 252: 'red', 253: 'tv_stand', 254: 'dog', 255: 'paper, candelabra', 256: 'lamp, alarm', 257: 'water_carboy', 258: 'calculator', 259: 'purple, white', 260: 'vase, bottle', 261: 'file_box', 262: 'head_phone', 263: 'floor', 264: 'sofa, photo, window, door', 265: 'bottle, towel', 266: 'file_pad', 267: 'mirror, decorative_item', 268: 'roll_of_toilet_paper', 269: '2163', 270: 'lamp, flower_pot', 271: 'pen_cup, pen', 272: 'tupperware', 273: 'lamp, table', 274: 'gray, red', 275: 'container, vegetable, newspapers', 276: 'black, brown, white, gray, pink', 277: 'pillow, blanket, jacket', 278: 'crock_pot', 279: 'cream', 280: 'lamp, book', 281: 'cabinet, bag', 282: 'blue, black, white', 283: 'cream, photo, bottle_of_perfume', 284: 'bottle_of_liquid, perfume, cream', 285: 'suitcase, bag', 286: 'refridgerator', 287: 'pen_holder', 288: 'book, hat, picture, comb', 289: 'bookshelf', 290: 'lamp, alarm_clock', 291: 'glass_container', 292: 'newspapers', 293: 'computer, monitor, telephone, keyboard', 294: 'towel_rod, towel', 295: 'blackboard, photo, chart_roll, paper_tray', 296: 'chair, toy', 297: 'toaster_oven', 298: 'guitar', 299: 'books, lamp', 300: 'hand_sanitizer, tissue_box', 301: 'toy_doll', 302: 'night_stand, lamp', 303: 'remote_control, clothes', 304: 'container, bottle, cream', 305: 'computer', 306: 'ceiling', 307: 'clothing_hamper', 308: 'monitor, paper, mouse, keyboard, box', 309: 'plant, bottle_of_hand_wash_liquid', 310: 'ashtray, bowl', 311: 'coffee_pot, cleaner, paper, book', 312: 'garbage_bin, sofa', 313: 'lamp, book, paper', 314: 'black, white, brown, red', 315: 'picture, paper, book, pen_cup', 316: 'comforter, doll', 317: 'papers, clock', 318: 'cutting_board, pot', 319: 'slide', 320: 'pillow, rug', 321: 'door_knob', 322: 'whiteboard', 323: 'hair_brush, clothes', 324: 'framed_certificate, vase', 325: 'desk_mat, flower, case', 326: 'fruit_basket, food_wrapped_on_a_tray, bottle_of_hand_wash_liquid, telephone', 327: 'paper, bottle, box', 328: 'counter', 329: 'book, paper, shoe', 330: 'paper, clothes', 331: 'bed, rug', 332: 'table, drawer', 333: 'heater', 334: 'monitor', 335: 'cup, saucer', 336: 'fan, pen_holder, bottle, pen, pencil, paper, hand_sanitizer', 337: 'tea_kettle, container', 338: 'vessel, sink, bowl, sponge', 339: 'book, alarm_clock', 340: 'orange', 341: 'box, ashtray', 342: 'file_holder', 343: 'door_frame', 344: 'pillow, bed_sheets, blanket', 345: 'electric_box', 346: 'white, black', 347: 'range_hood', 348: 'yellow, red, green, blue', 349: 'mantel', 350: 'lamp, books', 351: 'candle', 352: 'white, purple', 353: 'pen_stand', 354: 'picture, wall_decoration', 355: 'tissue_box, book, container', 356: 'napkin_dispenser', 357: 'bar_of_soap, bottle_of_hand_wash_liquid, cream, toothpaste', 358: 'bottle_of_perfume, papers', 359: 'paper, book, pen_cup', 360: 'plant, basket', 361: 'photo, mirror', 362: 'window', 363: 'coat_hanger', 364: 'ironing_board', 365: 'ladel', 366: 'plastic_toy_container', 367: 'keyboard, mouse', 368: 'vase, books', 369: 'magazine_holder', 370: 'file_container', 371: 'basket, clothes', 372: 'tent', 373: 'cup, books', 374: 'book, file, lamp', 375: 'clothes, pillow, doll', 376: 'blue, black', 377: 'candlestick, toy', 378: '1', 379: 'utensil_container', 380: 'book, scissor, papers, tape_dispenser', 381: 'decorative_item, books', 382: 'furniture', 383: 'bed_sheets, pillow', 384: 'crib', 385: 'fan', 386: 'toy, blanket', 387: 'laptop, sink', 388: 'red, white', 389: 'piece_of_wood', 390: 'candlestick, toy_dog', 391: 'lamp, tray, decoration_item', 392: 'board', 393: 'computer, keyboard', 394: 'clothes, jacket', 395: 'knob', 396: 'bottle, book', 397: 'white, black, purple, blue', 398: 'cane', 399: 'glass, glass_rack', 400: 'alarm_clock, book, shoe, wire', 401: 'plastic_tub', 402: 'green, blue, yellow, red', 403: 'id_card', 404: 'hockey_stick', 405: 'trolley', 406: 'cabinet', 407: 'toothpaste, bottle_of_hand_wash_liquid', 408: 'spoon_stand', 409: 'shelf_frame', 410: 'baby_chair', 411: 'incense_candle', 412: 'laptop', 413: 'paper_rack, coffee_machine, glass_container', 414: 'clothes, book', 415: 'door_knob, door_lock', 416: 'table, chair', 417: 'table_runner, bowl', 418: 'oven', 419: 'books, paper', 420: 'guitar, keyboard, microphone_stand', 421: 'books, box', 422: 'bench', 423: 'decorative_item, photo', 424: 'toilet', 425: 'clothes, bed_sheets', 426: 'pillow, blanket, clothes, jacket', 427: 'bin, books', 428: 'red, blue, green, orange, yellow', 429: 'column', 430: 'book, ashtray', 431: 'bottle, paper, toy, pen_stand, paper_bundle, box', 432: 'paper_holder', 433: 'books, photo, television', 434: 'sock, sock', 435: 'clock, toy', 436: 'picture, decorative_item', 437: 'map, bed_sheets', 438: 'wall_decoration, framed_certificate', 439: 'brick', 440: 'business_cards', 441: 'shoe, clothes, cream, jacket', 442: 'fax_machine', 443: 'box_of_paper', 444: 'white, blue, pink', 445: 'books, printer, cream, hair_brush', 446: 'decoration_item', 447: 'stapler, staple_remover, tape_dispenser, hole_puncher', 448: 'toy_bin', 449: 'pink, red, green, yellow, blue', 450: 'white, green', 451: 'bottle_of_soap', 452: 'monitor, telephone', 453: 'pillow, book', 454: 'chart', 455: 'books, clock', 456: 'plate, utensils, bottle_of_hand_wash_liquid', 457: 'glass, container', 458: 'clothes, pillow, blanket', 459: 'cooking_pan', 460: 'glass_pot', 461: 'sponge', 462: 'telephone, book, cd_disc', 463: 'paper, photo, cup', 464: 'box, clothes, books, bottle', 465: 'red, black, white', 466: 'sheet', 467: 'lint_roller', 468: 'vase, tray, lamp, toy', 469: 'bottle_of_liquid', 470: 'dog_cage', 471: 'bottle, vase, decorative_item', 472: 'bottle, glass, jar', 473: 'dog_toy', 474: 'tissue_box', 475: 'ladder', 476: 'hair_brush, toothbrush, makeup_brush, face_wash_cream, bottle_of_liquid', 477: 'tissue_box, pillow', 478: 'monitor, speaker, paper', 479: 'flower_pot, bowl, lamp', 480: 'bottle_of_liquid, cream', 481: 'toaster', 482: 'guitar, light', 483: 'lamp, toy', 484: 'sofa, floor_mat', 485: 'bag, notebook', 486: 'iron_box, clothes', 487: 'printer, stapler, paper', 488: 'video_game', 489: 'computer, books, bottle', 490: 'photo, book, toy', 491: 'vase, toy', 492: 'case', 493: 'laptop, books, headphones, paper', 494: 'red, blue, brown, green', 495: 'brown', 496: 'wall, plant', 497: 'photo_album', 498: 'bathtub', 499: 'tea_kettle', 500: 'decorative_plate, cup', 501: 'clothes', 502: 'plant, bottle, candlestick, wine_glass', 503: 'clothes, pillow, comforter', 504: 'candelabra, books, chessboard', 505: 'soap_holder', 506: 'speaker, mouse, keyboard', 507: 'toy, telephone', 508: 'ball', 509: 'chest', 510: 'printer, monitor, laptop, paper_holder, file', 511: 'window_cover', 512: 'water_filter', 513: 'garbage_bin', 514: 'pillow, clothes', 515: 'water_heater', 516: 'toy_stroller', 517: 'soap, soap_box', 518: 'night_stand, bag', 519: 'album', 520: 'box, table', 521: 'toy', 522: 'suitcase', 523: 'vessel_set', 524: 'monitor, keyboard, mouse, pen, paper', 525: 'lamp, telephone', 526: 'knife_rack, knife', 527: 'blanket', 528: 'toilet_paper', 529: 'cap_stand', 530: 'window, decorative_item', 531: 'poster_board', 532: 'iron_box, lamp', 533: 'cup, container, tissue', 534: 'cradle', 535: 'cabinet, photo, sofa', 536: 'blackboard', 537: 'monitor, lamp, cup, cell_phone, paper', 538: 'container', 539: 'clothes, perfume', 540: 'yellow, blue, red', 541: 'poster_board, hanger, fire_alarm, framed_certificate', 542: 'flatbed_scanner', 543: 'decoration_item, toy', 544: 'bottle, book, decorative_item', 545: 'alarm', 546: 'laptop, clothes', 547: 'ping_pong_table', 548: 'bowl, towel', 549: 'drawer, table', 550: 'yellow, white', 551: 'monitor, paper, telephone', 552: 'shoe_hanger', 553: 'table_runner', 554: 'hot_water_heater', 555: 'lamp, decoration_item', 556: 'frying_pan', 557: 'toys_basket', 558: 'light', 559: 'tissue_box, bottle_of_hand_wash_liquid, cream', 560: 'mouse', 561: 'kitchen_utensil', 562: 'cup, bag', 563: 'kitchen_island', 564: 'lamp, books, perfume, cream', 565: 'wine_glass', 566: 'briefcase', 567: 'bag, book, paper', 568: 'hooks', 569: 'dvd_player, remote_control', 570: 'shoe, wall_decoration', 571: 'lamp_shade', 572: 'cabinet, chair', 573: 'toy, window, photo', 574: 'plate, toy, book', 575: 'green_screen', 576: 'red, yellow, blue', 577: 'stand', 578: 'file_holder, books, photo, file', 579: 'tissue_box, basket', 580: 'pen_cup, scissor, pen', 581: 'table, lamp, chair', 582: 'bowl, decoration_item', 583: 'picture, lamp', 584: 'black, white', 585: 'books', 586: 'book, book', 587: 'stove, stove_burner', 588: 'laptop, mouse, books, paper', 589: 'salt_and_pepper', 590: 'clothes, photo, paper', 591: 'purple, yellow', 592: 'carton, cardboard_sheet, toy_doll', 593: 'books, bottle', 594: 'notebook', 595: '19', 596: 'dog_bowl', 597: 'pillow, bag', 598: 'red, white, pink, gray', 599: 'scissor', 600: 'paper, garbage_bin', 601: 'books, toy, hair_brush', 602: 'white, blue, red', 603: 'piano, piano_bench', 604: 'gray, black', 605: 'stones', 606: 'orange, pink', 607: 'chair, drawer', 608: 'stacked_plastic_racks', 609: 'lamp, telephone, paper', 610: '15', 611: 'doll, pillow, clothes', 612: 'books, paper_holder', 613: 'pen, pen_box, books, papers', 614: 'cup, glass_pot, decorative_plate', 615: 'white, red', 616: 'printer, pen_stand, paper', 617: 'framed_certificate', 618: 'red, blue', 619: 'picture, pen_cup', 620: 'drawer, bed', 621: 'plant, books, container', 622: 'toy, clothes, paper, basket', 623: 'pen, pen_stand, box', 624: 'show_piece', 625: 'desk_mat', 626: 'cloth_drying_stand', 627: 'alarm_clock, lamp', 628: 'cabinet, toy', 629: 'pencil', 630: 'pen, pencil, scale', 631: 'pillow, clothes, photo', 632: 'orange, white', 633: 'decorative_item, bowl', 634: 'excercise_equipment', 635: 'gray, blue, black', 636: 'printer, fax_machine', 637: 'file, paper, chart_roll, tray', 638: 'hand_sanitizer', 639: 'shelves', 640: 'dresser, television, sofa', 641: 'candelabra, book', 642: 'cup, decorative_item', 643: 'file', 644: 'chessboard, basket, desk_mat', 645: 'flag, glove', 646: 'pipe, light', 647: 'laptop, printer, pen_holder, bottle, paper, cables', 648: 'cat', 649: 'door', 650: 'bar_of_soap, hand_sanitizer, cream, cream_tube', 651: 'backpack', 652: 'knife, knife_rack', 653: 'pen', 654: 'lamp, fan, book, wire', 655: 'fruit, container, bottle', 656: 'tablecloth', 657: 'tray, decorative_item', 658: 'shower_hose', 659: '3', 660: 'toys_rack', 661: 'books, bottle, pencil, lamp', 662: '13', 663: 'brown, purple, white', 664: 'book, remote_control', 665: 'toy_truck', 666: 'globe, map', 667: 'coffee_grinder', 668: 'ashtray', 669: 'picture, books, papers, decorative_item', 670: 'pepper_shaker', 671: 'back_scrubber', 672: 'chair, carton', 673: 'lamp, tissue_box, alarm_clock', 674: 'coffee_pot', 675: 'soap, bottle_of_hand_wash_liquid', 676: 'railing', 677: 'paper, plastic_bowl, remote_control', 678: 'toiletries', 679: 'gray, white', 680: 'sink, faucet', 681: 'wine_rack', 682: 'toy, photo', 683: 'papers, file', 684: 'light_bulb', 685: 'bowl, plate, oven', 686: 'salt_shaker', 687: 'book, paper, decorative_item', 688: 'cables', 689: 'coffee_machine, hot_water_heater, cup', 690: 'sofa', 691: 'toy_doll, clothes', 692: 'canister', 693: 'cabinet, lamp', 694: 'music_stereo, remote_control, wire', 695: 'baby_gate', 696: 'box, bag, pillow', 697: 'white, pink, blue, green', 698: 'tape_dispenser, hole_puncher, paper_holder', 699: 'pot', 700: 'toy, books', 701: 'pink, brown', 702: 'tea_pot, sofa', 703: 'hand_sculpture', 704: 'night_stand', 705: 'red, black', 706: 'telephone, bag', 707: 'clothes, bag', 708: 'jeans', 709: 'floor_mat, blanket', 710: 'pillow, bed_sheets', 711: 'box, bottle_of_liquid', 712: 'iron_grill', 713: 'coffee_machine', 714: 'juicer', 715: 'light, decorative_item, picture', 716: 'basket, table, chair, machine', 717: 'white, yellow, gray', 718: 'blue, green', 719: 'photo, decorative_item', 720: 'vase, bag, clothes', 721: 'nailclipper', 722: 'cordless_phone', 723: 'bag, cup', 724: 'yellow, red, black', 725: 'lamp, photo, bottle', 726: 'toy_table, foosball_table', 727: 'yellow', 728: 'scissor, book, papers', 729: 'stapler', 730: 'drawer', 731: 'cordless_telephone', 732: 'paper_tray', 733: 'toy_car', 734: 'pink, purple, blue, black', 735: 'picture, picture, picture', 736: 'box, tissue_box, cup, bottle, plant', 737: 'drying_stand', 738: 'framed_certificate, picture', 739: 'chart_roll', 740: 'book, decorative_bowl', 741: 'foosball_table', 742: 'notecards', 743: 'picture, bottle, book', 744: 'clothes, wire', 745: 'paper, napkin_dispenser', 746: 'speaker', 747: 'clock, telephone', 748: 'lamp, cream, paper', 749: 'file, paper', 750: 'lamp, bottle_of_liquid', 751: 'faucet_handle', 752: 'piano', 753: 'radio, stereo', 754: 'fire_alarm', 755: 'bag, paper', 756: 'toothbrush, bottle_of_hand_wash_liquid, hand_sanitizer, cream', 757: 'light_bulb, light_bulb', 758: 'wine_bottle', 759: 'black, brown', 760: 'pool_table, sofa, coffee_table', 761: 'alarm, container', 762: 'vase, bag', 763: 'shower_curtain', 764: 'bed_sheets', 765: 'candelabra', 766: 'books, paper, toy, photo', 767: 'red, white, blue', 768: 'bottle_of_hand_wash_liquid', 769: 'pink, green', 770: 'flower, vase', 771: 'comforter, doll, sheets', 772: 'oil_container', 773: 'glass_box', 774: 'toilet_brush', 775: 'hand_fan', 776: 'laundry_basket', 777: 'photo, plant', 778: 'faucet, sink', 779: 'stroller', 780: 'bottle_of_listerine', 781: 'monitor, speaker', 782: 'yoga_mat, basketball', 783: 'blue, white, black', 784: 'pillow, blanket, soft_toy', 785: 'bottle, decorative_platter, desk_mat, tissue, book, clothes, scissor', 786: 'spice_rack, spice_bottle', 787: 'plant_pot', 788: 'clock, decorative_plate', 789: 'gray, purple', 790: 'ornamental_pot', 791: 'book, paper, box', 792: 'pink, orange, blue, yellow', 793: 'fan, paper, book', 794: 'window_seat', 795: 'foot_rest', 796: 'book, decorative_item', 797: 'pillow, blanket, bed_sheets', 798: 'suitcase, flower_pot', 799: 'candle, bowl, paper, bag', 800: 'coffee_machine, container, ornamental_plant', 801: 'yellow, red, orange', 802: 'cup, paper', 803: 'lamp, tissue_box, newspapers', 804: 'printer, garbage_bin', 805: 'carton, pillow', 806: 'picture, blinds', 807: 'hand_sanitizer_dispenser', 808: 'basket, chair', 809: 'kitchen_utensils, basket', 810: 'paper, basketball', 811: 'toy_chair', 812: 'paper, carton', 813: 'scarf, switchbox', 814: 'spice_stand', 815: 'tissue_box, paper', 816: 'red, blue, white', 817: 'table, cabinet', 818: 'candlestick, candle', 819: 'toy, photo, books', 820: 'red, green, black', 821: 'cell_phone', 822: 'toy_horse', 823: 'white', 824: 'grill', 825: 'red, yellow', 826: 'box, decorative_item', 827: 'paper, book, tape, paper_cutter', 828: 'books, toy, basket', 829: 'bottle_of_soap, container_of_skin_cream, face_wash_cream', 830: 'napkin, pillow', 831: 'clothes, books, bag', 832: 'keyboard, mouse, box', 833: 'bookshelf, bookrack', 834: 'photo, vase', 835: 'switchbox', 836: 'lamp, alarm, book, papers', 837: 'lamp, alarm_clock, telephone', 838: 'yellow, green, red', 839: 'kitchen_utensils, bottle', 840: 'books, photo', 841: 'lamp, photo, books', 842: 'toy, vase', 843: 'bottle, glass, pen_stand, pen, paper, book', 844: 'guitar_case', 845: '14', 846: 'napkin', 847: 'ping_pong_racket', 848: 'excercise_ball, suitcase', 849: 'cup, stand', 850: 'xbox', 851: 'banana, apple, orange', 852: 'person', 853: 'bunk_bed', 854: 'telephone, lamp', 855: 'laptop, bottle, cup, papers', 856: 'pink, blue, black, white', 857: 'chandelier', 858: 'soap, hand_sanitizer, towel_rod, towel', 859: 'clock, poster_board, wire, telephone, fire_alarm', 860: 'blue, white', 861: 'electric_toothbrush', 862: 'blue, gray', 863: 'books, cream, photo', 864: 'pillow, comforter, bed_sheets', 865: 'photo, toy, decorative_item', 866: 'pillow, comforter, remote_control', 867: 'bottle_of_hand_wash_liquid, bar_of_soap', 868: 'paper, pen_cup', 869: 'lamp, papers', 870: 'plastic_cup_of_coffee', 871: 'toy_doll, toy_dog, lamp', 872: '6', 873: 'green', 874: 'pillow, jacket, bed_sheets', 875: 'book, hat', 876: 'clothes, doll', 877: 'soft_toy', 878: 'hoola_hoop', 879: 'desk_mat, salt_shaker, tissue', 880: 'candlestick', 881: '9', 882: 'shopping_baskets', 883: 'bowl', 884: 'juicer, knife', 885: 'medal, toy', 886: 'table_runner, flower_pot', 887: 'iron_box', 888: 'whiteboard, light', 889: 'kitchen_utensils, bottle_of_hand_wash_liquid', 890: 'toy_table', 891: 'bottle_of_listerine, tissue_box, bottle_of_hand_wash_liquid', 892: 'photo, vase, sheet_music', 893: 'door_lock', 894: 'decorative_item, lamp', 895: 'bookshelf, treadmill', 896: 'toy_doll, soft_toy', 897: 'monitor, keyboard, computer, wire, paper, mouse', 898: 'belt', 899: 'book, shoe', 900: 'lamp, bottle, books', 901: 'mirror, picture, light_switch', 902: 'bottle, toy, papers, wire', 903: 'basket', 904: 'monitor, mouse, keyboard', 905: 'brown, white', 906: 'telephone, paper, file, clothes', 907: 'sheet_music', 908: 'bottle_of_hand_wash_liquid, hand_sanitizer', 909: 'comforter, clothes', 910: 'books, bowl', 911: 'jacket, bag', 912: 'bin, table, chair', 913: 'sticks, rope', 914: 'photo, plant_pot', 915: 'chessboard', 916: 'coffee_table', 917: 'coffee_machine, utensils', 918: 'tree_sculpture', 919: 'plate, spoon, knife, cup, bottle', 920: 'book, hockey_glove, picture', 921: 'green, brown', 922: 'lamp, books, bottle, pencil_holder', 923: 'bottle_of_soap, bottle_of_liquid', 924: 'ornamental_item', 925: 'lamp, book, pen_cup, bottle', 926: 'purple', 927: 'balloon', 928: 'books, remote_control', 929: 'carton', 930: 'table, pillow, comforter', 931: 'towel, blinds, window', 932: 'machine', 933: 'lamp', 934: 'toaster, computer', 935: 'tv_stand, television', 936: 'gray, green', 937: 'light_switch', 938: 'paper, clock', 939: 'sink_protector', 940: 'excercise_machine', 941: 'pillow, books, clothes', 942: 'container_of_skin_cream, cream_tube, face_wash_cream', 943: 'knife_rack', 944: 'cup, fruit', 945: 'television', 946: 'foosball_table, toy_table', 947: 'papers, photo', 948: 'decorative_platter', 949: 'bed', 950: 'lint_comb', 951: 'medal', 952: 'bar_of_soap', 953: 'doll_house, monitor, printer', 954: 'pillow, chair', 955: 'table, laptop', 956: 'router', 957: 'comforter, pillow', 958: 'music_stereo', 959: 'black, gray', 960: 'globe', 961: 'yoga_mat', 962: 'sheets', 963: 'chair, table', 964: 'hand_weight', 965: 'window, chair', 966: 'newspapers, plate', 967: 'picture, lamp, vase', 968: 'carton, chart_roll', 969: 'fax_machine, printer', 970: 'sofa, sofa, chair', 971: 'lamp, clothes', 972: 'cloth_bag', 973: 'toy, photo, book', 974: 'kitchen_utensils, towel, juicer', 975: 'clothes, tissue_box', 976: 'decorative_item, flower, vase', 977: 'table, photo', 978: 'sink, faucet, clothes', 979: 'book, lamp, perfume, hand_sanitizer', 980: 'clock', 981: 'picture, lamp, flower_pot', 982: 'carton, basket', 983: 'newspapers, cup', 984: 'towel, kitchen_utensils', 985: 'jar, paper', 986: 'bean_bag, bin', 987: 'plastic_bowl, tray, kitchen_items', 988: 'handle', 989: 'picture, papers', 990: 'game_table', 991: 'vase, decorative_item', 992: 'books, pen', 993: 'clothes, bed', 994: 'photo, paper, pencil', 995: 'vegetable_peeler', 996: 'window_shelf', 997: 'chair, garbage_bin', 998: 'black, white, blue, green', 999: 'toy_shelf', 1000: 'stick', 1001: 'wardrobe', 1002: 'decorative_item', 1003: 'book, picture', 1004: 'white, brown, red, green', 1005: 'door, door_way_arch', 1006: 'book, charger, wire', 1007: 'plate, candlestick', 1008: 'utensil', 1009: 'papers, bag, perfume', 1010: 'desk_mat, paper, book, napkin_dispenser', 1011: 'toys_basket, photo, books', 1012: 'television, photo', 1013: 'board, foot_rest', 1014: 'paper, tissue_box', 1015: 'hot_water_heater, microwave, bowl, bread, spoon', 1016: 'file, telephone, papers, clothes', 1017: 'pink, black, green, purple', 1018: 'clothes, pillow', 1019: 'whiteboard, poster_board', 1020: 'jersey', 1021: 'stairs', 1022: 'banana', 1023: 'paper, pen', 1024: 'charger', 1025: 'chair, lamp', 1026: 'eggplant', 1027: 'computer, photo', 1028: 'hair_brush', 1029: 'toothpaste', 1030: 'bottle_of_liquid, plate', 1031: 'light, chandelier', 1032: 'tray, utensil', 1033: 'blue, red, green', 1034: 'bowl, bottle', 1035: 'bottle, alarm', 1036: 'stacked_chairs', 1037: 'basketball_hoop', 1038: 'television, dvd_player', 1039: 'sheets, comforter', 1040: 'bed, lamp', 1041: 'flower', 1042: 'cable_box, cables', 1043: 'books, file', 1044: 'blue, black, green', 1045: 'candle, bowl, banana', 1046: 'toothbrush, toothbrush_holder, toothpaste, hand_sanitizer', 1047: 'dvd', 1048: 'box', 1049: 'monitor, mouse, paper', 1050: 'mattress', 1051: 'towel, towel, clothes', 1052: 'trampoline', 1053: 'glass_pane', 1054: '8', 1055: 'pillow, blanket, book', 1056: 'bread', 1057: 'electrical_outlet', 1058: 'bowl, book', 1059: 'box, garbage_bin, shoe', 1060: 'wooden_planks', 1061: 'toy_table, chair', 1062: 'tissue', 1063: 'white, black, blue, pink', 1064: 'printer', 1065: 'vegetable', 1066: 'window, curtain, broom', 1067: 'doll, alarm_clock, box', 1068: 'television, box', 1069: 'napkin_holder', 1070: 'blue, purple, black, white', 1071: 'window, curtain, wardrobe, door', 1072: 'red, blue, green', 1073: 'package_of_bottled_water', 1074: 'monitor, printer, flower, vase', 1075: 'dishwasher', 1076: '16', 1077: 'chair, lamp, books', 1078: 'spatula', 1079: 'bowl, whisk, knife, juicer', 1080: 'can', 1081: 'shoe_rack', 1082: 'horse_toy', 1083: 'red, yellow, blue, green', 1084: 'bed, paper, bag', 1085: 'table, clock', 1086: 'bag, suitcase', 1087: 'towel, telephone', 1088: 'radio, clothes, table', 1089: 'telephone, lamp, picture', 1090: 'notebook, decorative_bowl', 1091: 'box, purse, cup', 1092: '10', 1093: 'pillow, clothes, blanket', 1094: 'plate', 1095: 'glass', 1096: 'pink, brown, white', 1097: 'bottle, pillow, comforter', 1098: 'letter_stand', 1099: 'shaver', 1100: 'piano_bench', 1101: 'photo, decoration_item', 1102: 'roll_of_paper_towels', 1103: 'sheet, pillow', 1104: 'papers, books', 1105: 'toilet_paper_holder', 1106: 'books, magazine_holder, wall_decoration', 1107: 'jar, vessel, pan', 1108: 'tin_foil', 1109: 'book_holder', 1110: 'file, papers, pencil', 1111: 'laptop, books, headphones', 1112: '4, 6', 1113: 'blinds, picture', 1114: 'pool_table', 1115: 'bowl, decorative_item', 1116: 'photo, light, decoration_item', 1117: 'plastic_box, cooking_pot_cover', 1118: 'tricycle', 1119: 'mirror, picture', 1120: 'dishes', 1121: 'chair, table, photo', 1122: 'spot_light', 1123: 'pen, pencil', 1124: 'blue, green, yellow', 1125: 'stamp', 1126: 'lego', 1127: 'stapler, paper, file_holder', 1128: 'scarf', 1129: 'lamp, comforter, curtain', 1130: 'photo, sheet_music', 1131: 'mirror, photo', 1132: 'headphones', 1133: 'blender', 1134: 'pillow, photo', 1135: 'toothbrush_holder', 1136: 'decorative_bowl', 1137: 'pitcher', 1138: 'exit_sign, poster_board, fire_alarm', 1139: 'purple, gray, white', 1140: 'stove', 1141: 'cd_disc', 1142: 'razor, toothpaste', 1143: 'purple, pink', 1144: 'printer, tray', 1145: 'stapler, paper_cutter, tape', 1146: 'photo, lamp', 1147: 'vacuum_cleaner', 1148: 'glass, bowl', 1149: 'radiator', 1150: 'wall_stand', 1151: 'kitchen_utensils', 1152: 'suitcase, lamp', 1153: 'head_phones', 1154: 'picture, framed_certificate', 1155: 'dish_rack', 1156: 'pillow, paper, book', 1157: 'pillow, blanket, bed_sheets, clothes', 1158: 'flower, vase, bottle', 1159: 'cutting_board, towel, knife', 1160: '22', 1161: 'fruit, basket', 1162: 'bucket', 1163: 'red, green, blue, purple, orange', 1164: 'fan, lamp, books', 1165: 'lamp, paper', 1166: 'slide, table', 1167: 'plastic_tray', 1168: 'book', 1169: 'book, paper, bottle', 1170: 'mirror', 1171: 'hanger', 1172: 'carton, comforter, clothes', 1173: 'plastic_chair', 1174: 'broom', 1175: 'black, red, white', 1176: 'pink', 1177: 'photo, toy', 1178: 'electrical_kettle', 1179: 'salt_shaker, bowl, decorative_plate, decorative_item', 1180: '11', 1181: 'perfume', 1182: 'picture', 1183: 'ornamental_plant', 1184: 'clock, telephone, fire_extinguisher', 1185: 'floor_mat', 1186: 'blanket, pillow, clothes', 1187: 'pink, red, green, white', 1188: 'pillow, paper, remote_control', 1189: 'wall_divider', 1190: 'magazine', 1191: 'lamp, chair, garbage_bin', 1192: 'towel, bottle_of_liquid, cream_tube, tissue', 1193: 'paper_rack', 1194: 'blue, brown', 1195: 'bottle, bag, bowl', 1196: 'tissue_roll, coffee_machine', 1197: 'newspapers, bowl', 1198: 'certificate, trophy', 1199: 'lamp, photo, toy', 1200: 'red, brown', 1201: 'telescope', 1202: 'bottle, lamp, book, hand_sanitizer', 1203: 'lamp, lamp', 1204: 'paper, magnet', 1205: 'exit_sign, fire_alarm, light', 1206: 'flower_pot', 1207: 'television, dvd_player, hand_sanitizer', 1208: 'box, stand', 1209: 'blanket, pillow', 1210: 'lamp, toy, pen_stand, notebook', 1211: 'cabinet, bookshelf', 1212: 'tissue_box, books', 1213: 'cream_tube', 1214: 'paper, bottle', 1215: 'pink, yellow', 1216: '12', 1217: 'television, books, photo', 1218: 'laptop, telephone, lamp, printer', 1219: 'ironing_board, clothing_iron', 1220: 'display_board, fire_alarm', 1221: 'paper, box, photo', 1222: 'onion', 1223: 'book, toy, hat', 1224: 'books, ball, telephone, paper', 1225: 'blue, pink, black, white', 1226: 'television, dvd_player, stand, drawer', 1227: 'bottle_of_liquid, bottle', 1228: 'toothbrush, hand_sanitizer, cream', 1229: 'bottle_of_hand_wash_liquid, towel, soap', 1230: 'cabinet, cutting_board', 1231: 'pen_stand, papers, glass, bottle', 1232: 'wooden_plank', 1233: 'towel_rod', 1234: 'newspapers, lamp, tissue_box', 1235: 'lamp, books, papers', 1236: 'cell_phone_charger', 1237: 'remote_control', 1238: 'ornamental_plant, decorative_plate, books', 1239: 'box, purse, razor', 1240: 'toothbrush', 1241: 'books, papers, file_holder', 1242: 'pink, black, white, blue', 1243: 'doll, pillow', 1244: 'pillow, paper, clothes', 1245: 'pen_cup', 1246: 'plastic_box', 1247: 'folder', 1248: 'ottoman', 1249: 'tray', 1250: 'dog, pillow, clothes', 1251: 'toothpaste, comb, bottle_of_hand_wash_liquid, hand_sanitizer, bar_of_soap, towel', 1252: 'garbage_bin, box', 1253: 'dvd_player, photo, toy', 1254: 'bed, rug, blanket, pillow', 1255: 'dish_brush', 1256: 'lighting_track', 1257: 'white, red, brown', 1258: 'makeup_brush', 1259: 'binder', 1260: 'plate, spatula', 1261: 'air_vent', 1262: 'file, folder', 1263: 'razor', 1264: 'tissue_roll, bottle', 1265: 'hot_water_heater, microwave, bottle, plate', 1266: 'spice_rack', 1267: 'faucet', 1268: 'globe_stand', 1269: 'paper, box, lamp, file', 1270: 'knobs', 1271: 'lamp, paper, cream_tube, shaving_cream', 1272: 'water_cooler', 1273: 'bag, vase', 1274: 'paper, bag', 1275: '18', 1276: 'book, picture, comforter', 1277: 'umbrella', 1278: 'laptop, mouse, books, calculator', 1279: 'pillow', 1280: 'brown, gray', 1281: 'wall_decoration', 1282: 'bicycle_helmet', 1283: 'fire_alarm, poster_board, coat_hanger, framed_certificate', 1284: 'storage_rack', 1285: 'dresser', 1286: 'shirts_in_hanger, bag', 1287: 'books, plate', 1288: 'stool, stool', 1289: 'pillow, remote_control', 1290: 'sheets, comforter, pillow', 1291: 'utensils', 1292: 'blue', 1293: 'decorative_item, tissue_box', 1294: 'photo, bottle_of_perfume', 1295: 'door_way_arch', 1296: 'calendar', 1297: 'knife', 1298: 'scissor, pen', 1299: 'bulb', 1300: 'paper, picture', 1301: 'monitor, machine, paper, keyboard', 1302: 'folders', 1303: 'decorative_plate, bowl', 1304: 'box, lamp', 1305: 'comforter', 1306: 'candelabra, books, decoration_item', 1307: 'dog_bed', 1308: 'gift_wrapping_roll', 1309: 'vase, flower', 1310: 'bookshelf, mirror', 1311: 'alarm_clock, bottle, paper', 1312: 'table', 1313: 'scale', 1314: 'books, flower_pot, remote_control', 1315: 'toy_box, chart', 1316: 'bottle_of_liquid, cables', 1317: 'decorative_plate', 1318: 'projector', 1319: 'cup, papers', 1320: 'rug', 1321: 'radio', 1322: 'pillow, backpack', 1323: 'bookrack', 1324: 'envelope, microwave, paper_towel', 1325: 'books, toy', 1326: 'yellow, blue', 1327: 'monitor, telephone, computer', 1328: 'kichen_towel', 1329: 'photo, light_switch', 1330: 'green, yellow', 1331: '5', 1332: 'hangers', 1333: 'bowl, paper', 1334: 'flower, case', 1335: 'paper', 1336: 'oven, refridgerator', 1337: 'monitor, remote_control', 1338: 'vase, remote_control', 1339: 'hamburger_bun', 1340: 'lamp, photo', 1341: 'toys_basket, clothing_hamper', 1342: 'shoe, umbrella, bag', 1343: 'plant_pot, papers, faucet', 1344: 'lamp, books, remote_control', 1345: 'gray', 1346: 'deoderant', 1347: 'fruit', 1348: 'pillow, books', 1349: 'toy, lamp', 1350: 'bag, box, purse, books', 1351: 'pink, gray', 1352: 'black', 1353: 'bottle, container, bottle_of_liquid', 1354: 'glass, clock, incense_holder', 1355: 'file, file_holder', 1356: 'photo, candlestick, candelabra', 1357: 'clothes, desk_mat, tissue', 1358: 'mouse_pad', 1359: 'speaker, dvd', 1360: 'coffee_machine, basket', 1361: 'dvd_player', 1362: 'television, books, dvd_player', 1363: 'modem', 1364: 'file_container, file_stand, file_holder', 1365: 'telephone, stand', 1366: 'toys_shelf', 1367: 'shoe', 1368: 'photo, toy, television, dvd_player', 1369: 'decorative_platter, bottle', 1370: 'stool', 1371: 'picture, picture', 1372: 'kitchen_utensils, coffee_machine', 1373: 'blue, red', 1374: 'duster, whiteboard_marker', 1375: 'bag, shoe, garbage_bin, bag, box', 1376: 'fireplace', 1377: 'clothing_detergent', 1378: 'bottle_of_liquid, wire_board, wire', 1379: 'sink', 1380: 'orange_juicer', 1381: 'casserole_dish', 1382: 'photo', 1383: '7', 1384: 'tissue_box, remote_control', 1385: 'toy, decorative_item', 1386: 'bowl, ashtray', 1387: 'photo, tissue_box, toy', 1388: 'door_way', 1389: 'pipe', 1390: 'towel_rod, toilet_paper_holder', 1391: 'bottle_of_liquid, dvd_player', 1392: 'wall', 1393: 'wire_board', 1394: 'brown, white, yellow', 1395: 'tape_dispenser', 1396: 'book, bottle', 1397: 'sticker', 1398: 'box, ipad', 1399: 'white, blue, black, gray', 1400: 'suitcase, trolley', 1401: 'doll', 1402: 'key', 1403: 'machine, cables', 1404: 'ping_pong_racket, ping_pong_table', 1405: 'toy, lamp, book', 1406: 'bicycle', 1407: 'vessel', 1408: 'clothes, decorative_item', 1409: 'vase, tray, bottle_of_hand_wash_liquid, bottle', 1410: 'cleaner, monitor, dvd_player', 1411: 'measuring_cup', 1412: 'white, blue', 1413: 'pillow, blanket', 1414: 'jacket', 1415: 'pink, blue', 1416: 'fire_extinguisher', 1417: 'soft_toy, toy, photo', 1418: 'plant, picture, table, light', 1419: 'file, toy, bottle', 1420: 'paper, book', 1421: 'red, green', 1422: 'brown, black', 1423: 'tea_kettle, decorative_plate', 1424: 'lamp, vase, bottle, cup, tray', 1425: 'faucet, faucet_handle', 1426: 'pink, yellow, green', 1427: 'table_runner, decorative_item', 1428: 'paper, pen, clock, box', 1429: 'paper, decorative_platter, desk_mat, book, newspapers', 1430: 'red, green, blue', 1431: 'yellow, green', 1432: 'cd', 1433: 'curtain, table, bottle_of_liquid', 1434: 'whiteboard_eraser, whiteboard_marker', 1435: 'flag', 1436: 'electric_mixer', 1437: 'paper, file', 1438: 'bean_bag', 1439: 'white, brown', 1440: 'hair_dryer', 1441: 'ipad', 1442: 'file, photo'}\n"
     ]
    }
   ],
   "source": [
    "all_data = train_data + val_data + test_data\n",
    "\n",
    "classes = set([sample['answer'] for sample in all_data])\n",
    "classes_to_idx = {\n",
    "    cls_name: idx for idx, cls_name in enumerate(classes)\n",
    "}\n",
    "idx_to_classes = {\n",
    "    idx: cls_name for idx, cls_name in enumerate(classes)\n",
    "}\n",
    "print(idx_to_classes)"
   ]
  },
  {
   "cell_type": "markdown",
   "metadata": {
    "id": "9UznC-J7FVTf"
   },
   "source": [
    "## 4. Create Pytorch dataset"
   ]
  },
  {
   "cell_type": "code",
   "execution_count": 123,
   "metadata": {
    "id": "fXAFcSjnGlZF"
   },
   "outputs": [],
   "source": [
    "class VQADataset(Dataset):\n",
    "    def __init__(\n",
    "        self,\n",
    "        data,\n",
    "        classes_to_idx,\n",
    "        max_seq_len=20,\n",
    "        transform=None,\n",
    "        root_dir='/content/drive/MyDrive/Computer Vision/vqa/images'\n",
    "    ):\n",
    "        self.transform = transform\n",
    "        self.data = data\n",
    "        self.max_seq_len = max_seq_len\n",
    "        self.root_dir = root_dir\n",
    "        self.classes_to_idx = classes_to_idx\n",
    "\n",
    "    def __len__(self):\n",
    "        return len(self.data)\n",
    "\n",
    "    def __getitem__(self, index):\n",
    "        img_path = os.path.join(self.root_dir, self.data[index]['image_path'])\n",
    "        img = Image.open(img_path).convert('RGB')\n",
    "        if self.transform:\n",
    "            img = self.transform(img)\n",
    "\n",
    "        question = self.data[index]['question']\n",
    "        question = tokenize(question, self.max_seq_len)\n",
    "        question = torch.tensor(question, dtype=torch.long)\n",
    "\n",
    "        label = self.data[index]['answer']\n",
    "        label = classes_to_idx[label]\n",
    "        label = torch.tensor(label, dtype=torch.long)\n",
    "\n",
    "        return img, question, label"
   ]
  },
  {
   "cell_type": "code",
   "execution_count": 124,
   "metadata": {
    "id": "AtRtdtYzrgeB"
   },
   "outputs": [],
   "source": [
    "transform = transforms.Compose([\n",
    "    transforms.Resize((224, 224)),\n",
    "    transforms.ToTensor(),\n",
    "    transforms.Normalize((0.485, 0.456, 0.406), (0.229, 0.224, 0.225)),\n",
    "])"
   ]
  },
  {
   "cell_type": "code",
   "execution_count": 125,
   "metadata": {
    "id": "NmyFmD_GL-BQ"
   },
   "outputs": [],
   "source": [
    "train_dataset = VQADataset(\n",
    "    train_data,\n",
    "    classes_to_idx=classes_to_idx,\n",
    "    transform=transform\n",
    ")\n",
    "val_dataset = VQADataset(\n",
    "    val_data,\n",
    "    classes_to_idx=classes_to_idx,\n",
    "    transform=transform\n",
    ")\n",
    "test_dataset = VQADataset(\n",
    "    test_data,\n",
    "    classes_to_idx=classes_to_idx,\n",
    "    transform=transform\n",
    ")"
   ]
  },
  {
   "cell_type": "code",
   "execution_count": 126,
   "metadata": {
    "id": "AToEIVctirQK"
   },
   "outputs": [],
   "source": [
    "train_batch_size = 128\n",
    "test_batch_size = 32\n",
    "\n",
    "train_loader = DataLoader(\n",
    "    train_dataset,\n",
    "    batch_size=train_batch_size,\n",
    "    shuffle=True\n",
    ")\n",
    "val_loader = DataLoader(\n",
    "    val_dataset,\n",
    "    batch_size=test_batch_size,\n",
    "    shuffle=False\n",
    ")\n",
    "test_loader = DataLoader(\n",
    "    test_dataset,\n",
    "    batch_size=test_batch_size,\n",
    "    shuffle=False\n",
    ")"
   ]
  },
  {
   "cell_type": "markdown",
   "metadata": {
    "id": "fOcnB225J90K"
   },
   "source": [
    "## 5. Create Model"
   ]
  },
  {
   "cell_type": "code",
   "execution_count": 127,
   "metadata": {
    "id": "UwZNqfIvLmup"
   },
   "outputs": [],
   "source": [
    "class VQAModel(nn.Module):\n",
    "    def __init__(\n",
    "        self,\n",
    "        n_classes,\n",
    "        img_model_name='resnet50',\n",
    "        embeddding_dim=300,\n",
    "        n_layers=1,\n",
    "        hidden_size=128,\n",
    "        dropout_prob=0.2\n",
    "    ):\n",
    "        super(VQAModel, self).__init__()\n",
    "        self.image_encoder = timm.create_model(\n",
    "            img_model_name,\n",
    "            pretrained=True,\n",
    "            num_classes=hidden_size\n",
    "        )\n",
    "\n",
    "        self.embedding = nn.Embedding(len(vocab), embeddding_dim)\n",
    "        self.lstm1 = nn.LSTM(\n",
    "            input_size=embeddding_dim,\n",
    "            hidden_size=hidden_size,\n",
    "            num_layers=n_layers,\n",
    "            batch_first=True,\n",
    "            bidirectional=True\n",
    "        )\n",
    "        self.lstm2 = nn.LSTM(\n",
    "            input_size=hidden_size*3,\n",
    "            hidden_size=hidden_size,\n",
    "            num_layers=n_layers,\n",
    "            batch_first=True,\n",
    "            bidirectional=True\n",
    "        )\n",
    "        self.dropout = nn.Dropout(dropout_prob)\n",
    "        self.fc = nn.Linear(hidden_size * 2, n_classes)\n",
    "\n",
    "    def forward(self, img, text):\n",
    "        img_features = self.image_encoder(img)\n",
    "\n",
    "        text_emb = self.embedding(text)\n",
    "        lstm_out, _ = self.lstm1(text_emb)\n",
    "\n",
    "        lstm_out = lstm_out[:, -1, :]\n",
    "\n",
    "        combined = torch.cat((img_features, lstm_out), dim=1)\n",
    "        x, _ = self.lstm2(combined)\n",
    "        x = self.dropout(x)\n",
    "        x = self.fc(x)\n",
    "\n",
    "        return x"
   ]
  },
  {
   "cell_type": "code",
   "execution_count": 128,
   "metadata": {
    "id": "obxbBWAbkg2A"
   },
   "outputs": [],
   "source": [
    "n_classes = len(classes)\n",
    "img_model_name = 'resnet50'\n",
    "hidden_size = 128\n",
    "n_layers = 1\n",
    "embeddding_dim = 64\n",
    "dropout_prob = 0.2\n",
    "device = 'cuda' if torch.cuda.is_available() else 'cpu'\n",
    "\n",
    "model = VQAModel(\n",
    "    n_classes=n_classes,\n",
    "    img_model_name=img_model_name,\n",
    "    embeddding_dim=embeddding_dim,\n",
    "    n_layers=n_layers,\n",
    "    hidden_size=hidden_size,\n",
    "    dropout_prob=dropout_prob\n",
    ").to(device)"
   ]
  },
  {
   "cell_type": "code",
   "execution_count": 129,
   "metadata": {
    "colab": {
     "base_uri": "https://localhost:8080/"
    },
    "id": "ZzhJzxrGmWSO",
    "outputId": "a5711ade-5e2b-40e4-a391-06b5ca8ff0d0"
   },
   "outputs": [
    {
     "name": "stdout",
     "output_type": "stream",
     "text": [
      "torch.Size([128, 1443])\n"
     ]
    }
   ],
   "source": [
    "images, questions, labels = next(iter(train_loader))\n",
    "\n",
    "model.eval()\n",
    "with torch.no_grad():\n",
    "    images = images.to(device)\n",
    "    questions = questions.to(device)\n",
    "    output = model(images, questions)\n",
    "    print(output.shape)"
   ]
  },
  {
   "cell_type": "markdown",
   "metadata": {
    "id": "OmPEn5s-mjJe"
   },
   "source": [
    "## 6. Training"
   ]
  },
  {
   "cell_type": "code",
   "execution_count": 130,
   "metadata": {
    "id": "pBIA8pH0rEHF"
   },
   "outputs": [],
   "source": [
    "def evaluate(model, dataloader, criterion, device):\n",
    "    model.eval()\n",
    "    correct = 0\n",
    "    total = 0\n",
    "    losses = []\n",
    "    with torch.no_grad():\n",
    "        for image, question, labels in dataloader:\n",
    "            image, question, labels = image.to(device), question.to(device), labels.to(device)\n",
    "            outputs = model(image, question)\n",
    "            loss = criterion(outputs, labels)\n",
    "            losses.append(loss.item())\n",
    "            _, predicted = torch.max(outputs.data, 1)\n",
    "            total += labels.size(0)\n",
    "            correct += (predicted == labels).sum().item()\n",
    "\n",
    "    loss = sum(losses) / len(losses)\n",
    "    acc = correct / total\n",
    "\n",
    "    return loss, acc"
   ]
  },
  {
   "cell_type": "code",
   "execution_count": 131,
   "metadata": {
    "id": "MxNXk8_xrkon"
   },
   "outputs": [],
   "source": [
    "def fit(\n",
    "    model,\n",
    "    train_loader,\n",
    "    val_loader,\n",
    "    criterion,\n",
    "    optimizer,\n",
    "    scheduler,\n",
    "    device,\n",
    "    epochs\n",
    "):\n",
    "    train_losses = []\n",
    "    val_losses = []\n",
    "\n",
    "    for epoch in range(epochs):\n",
    "        batch_train_losses = []\n",
    "\n",
    "        model.train()\n",
    "        for idx, (images, questions, labels) in enumerate(train_loader):\n",
    "            images = images.to(device)\n",
    "            questions = questions.to(device)\n",
    "            labels = labels.to(device)\n",
    "\n",
    "            optimizer.zero_grad()\n",
    "            outputs = model(images, questions)\n",
    "            loss = criterion(outputs, labels)\n",
    "            loss.backward()\n",
    "            optimizer.step()\n",
    "\n",
    "            batch_train_losses.append(loss.item())\n",
    "\n",
    "        train_loss = sum(batch_train_losses) / len(batch_train_losses)\n",
    "        train_losses.append(train_loss)\n",
    "\n",
    "        val_loss, val_acc = evaluate(\n",
    "            model, val_loader,\n",
    "            criterion, device\n",
    "        )\n",
    "        val_losses.append(val_loss)\n",
    "\n",
    "        print(f'EPOCH {epoch + 1}:\\tTrain loss: {train_loss:.4f}\\tVal loss: {val_loss:.4f}\\tVal Acc: {val_acc}')\n",
    "\n",
    "        scheduler.step()\n",
    "\n",
    "    return train_losses, val_losses"
   ]
  },
  {
   "cell_type": "code",
   "execution_count": 134,
   "metadata": {
    "id": "6hj65HGor2pv"
   },
   "outputs": [],
   "source": [
    "lr = 1e-2\n",
    "epochs = 5\n",
    "\n",
    "scheduler_step_size = epochs * 0.6\n",
    "criterion = nn.CrossEntropyLoss()\n",
    "\n",
    "optimizer = torch.optim.Adam(\n",
    "    model.parameters(),\n",
    "    lr=lr\n",
    ")\n",
    "scheduler = torch.optim.lr_scheduler.StepLR(\n",
    "    optimizer,\n",
    "    step_size=scheduler_step_size,\n",
    "    gamma=0.1\n",
    ")"
   ]
  },
  {
   "cell_type": "code",
   "execution_count": 135,
   "metadata": {
    "colab": {
     "base_uri": "https://localhost:8080/"
    },
    "id": "z5Qmw6efr5HG",
    "outputId": "3271c5a1-7cf8-42a1-a30c-e44c86c81366"
   },
   "outputs": [
    {
     "name": "stderr",
     "output_type": "stream",
     "text": [
      "/usr/local/lib/python3.10/dist-packages/torch/autograd/graph.py:744: UserWarning: Plan failed with a cudnnException: CUDNN_BACKEND_EXECUTION_PLAN_DESCRIPTOR: cudnnFinalize Descriptor Failed cudnn_status: CUDNN_STATUS_NOT_SUPPORTED (Triggered internally at ../aten/src/ATen/native/cudnn/Conv_v8.cpp:919.)\n",
      "  return Variable._execution_engine.run_backward(  # Calls into the C++ engine to run the backward pass\n"
     ]
    },
    {
     "name": "stdout",
     "output_type": "stream",
     "text": [
      "EPOCH 1:\tTrain loss: 5.7098\tVal loss: 5.3725\tVal Acc: 0.05416666666666667\n",
      "EPOCH 2:\tTrain loss: 5.2477\tVal loss: 9.1846\tVal Acc: 0.0016666666666666668\n",
      "EPOCH 3:\tTrain loss: 5.0840\tVal loss: 5.2330\tVal Acc: 0.06833333333333333\n",
      "EPOCH 4:\tTrain loss: 4.8860\tVal loss: 5.1654\tVal Acc: 0.08666666666666667\n",
      "EPOCH 5:\tTrain loss: 4.8329\tVal loss: 5.1429\tVal Acc: 0.09166666666666666\n"
     ]
    }
   ],
   "source": [
    "train_losses, val_losses = fit(\n",
    "    model,\n",
    "    train_loader,\n",
    "    val_loader,\n",
    "    criterion,\n",
    "    optimizer,\n",
    "    scheduler,\n",
    "    device,\n",
    "    epochs\n",
    ")"
   ]
  },
  {
   "cell_type": "code",
   "execution_count": 136,
   "metadata": {
    "colab": {
     "base_uri": "https://localhost:8080/",
     "height": 487
    },
    "id": "xIobHWIptBQm",
    "outputId": "845dd2b0-c175-42fb-d857-03f68a8dec77"
   },
   "outputs": [
    {
     "data": {
      "image/png": "[encoded data removed]",
      "text/plain": [
       "<Figure size 1200x500 with 2 Axes>"
      ]
     },
     "metadata": {},
     "output_type": "display_data"
    }
   ],
   "source": [
    "fig, ax = plt.subplots(1, 2, figsize=(12, 5))\n",
    "ax[0].plot(train_losses)\n",
    "ax[0].set_title('Training Loss')\n",
    "ax[0].set_xlabel('Epoch')\n",
    "ax[0].set_ylabel('Loss')\n",
    "ax[1].plot(val_losses, color='orange')\n",
    "ax[1].set_title('Val Loss')\n",
    "ax[1].set_xlabel('Epoch')\n",
    "ax[1].set_ylabel('Loss')\n",
    "plt.show()"
   ]
  },
  {
   "cell_type": "markdown",
   "metadata": {
    "id": "JPFgeiArr6zp"
   },
   "source": [
    "## 7. Evaluation"
   ]
  },
  {
   "cell_type": "code",
   "execution_count": 137,
   "metadata": {
    "colab": {
     "base_uri": "https://localhost:8080/"
    },
    "id": "psvbHQpis5bm",
    "outputId": "1fc2b469-86f1-4b86-f808-32e66c93de40"
   },
   "outputs": [
    {
     "name": "stdout",
     "output_type": "stream",
     "text": [
      "Evaluation on val/test dataset\n",
      "Val accuracy:  0.09166666666666666\n",
      "Test accuracy:  0.08083333333333333\n"
     ]
    }
   ],
   "source": [
    "val_loss, val_acc = evaluate(\n",
    "    model,\n",
    "    val_loader,\n",
    "    criterion,\n",
    "    device\n",
    ")\n",
    "test_loss, test_acc = evaluate(\n",
    "    model,\n",
    "    test_loader,\n",
    "    criterion,\n",
    "    device\n",
    ")\n",
    "\n",
    "print('Evaluation on val/test dataset')\n",
    "print('Val accuracy: ', val_acc)\n",
    "print('Test accuracy: ', test_acc)"
   ]
  },
  {
   "cell_type": "markdown",
   "metadata": {
    "id": "I1z1VpDfg0H1"
   },
   "source": [
    "## Predict"
   ]
  },
  {
   "cell_type": "code",
   "execution_count": 138,
   "metadata": {
    "colab": {
     "base_uri": "https://localhost:8080/"
    },
    "id": "v4T1j5I0g2kZ",
    "outputId": "c3774e63-73b7-4f39-e121-2267f53efb36"
   },
   "outputs": [
    {
     "name": "stdout",
     "output_type": "stream",
     "text": [
      "Requirement already satisfied: ipywidgets in /usr/local/lib/python3.10/dist-packages (7.7.1)\n",
      "Requirement already satisfied: ipykernel>=4.5.1 in /usr/local/lib/python3.10/dist-packages (from ipywidgets) (5.5.6)\n",
      "Requirement already satisfied: ipython-genutils~=0.2.0 in /usr/local/lib/python3.10/dist-packages (from ipywidgets) (0.2.0)\n",
      "Requirement already satisfied: traitlets>=4.3.1 in /usr/local/lib/python3.10/dist-packages (from ipywidgets) (5.7.1)\n",
      "Requirement already satisfied: widgetsnbextension~=3.6.0 in /usr/local/lib/python3.10/dist-packages (from ipywidgets) (3.6.6)\n",
      "Requirement already satisfied: ipython>=4.0.0 in /usr/local/lib/python3.10/dist-packages (from ipywidgets) (7.34.0)\n",
      "Requirement already satisfied: jupyterlab-widgets>=1.0.0 in /usr/local/lib/python3.10/dist-packages (from ipywidgets) (3.0.11)\n",
      "Requirement already satisfied: jupyter-client in /usr/local/lib/python3.10/dist-packages (from ipykernel>=4.5.1->ipywidgets) (6.1.12)\n",
      "Requirement already satisfied: tornado>=4.2 in /usr/local/lib/python3.10/dist-packages (from ipykernel>=4.5.1->ipywidgets) (6.3.3)\n",
      "Requirement already satisfied: setuptools>=18.5 in /usr/local/lib/python3.10/dist-packages (from ipython>=4.0.0->ipywidgets) (67.7.2)\n",
      "Collecting jedi>=0.16 (from ipython>=4.0.0->ipywidgets)\n",
      "  Downloading jedi-0.19.1-py2.py3-none-any.whl (1.6 MB)\n",
      "\u001b[2K     \u001b[90m━━━━━━━━━━━━━━━━━━━━━━━━━━━━━━━━━━━━━━━━\u001b[0m \u001b[32m1.6/1.6 MB\u001b[0m \u001b[31m10.4 MB/s\u001b[0m eta \u001b[36m0:00:00\u001b[0m\n",
      "\u001b[?25hRequirement already satisfied: decorator in /usr/local/lib/python3.10/dist-packages (from ipython>=4.0.0->ipywidgets) (4.4.2)\n",
      "Requirement already satisfied: pickleshare in /usr/local/lib/python3.10/dist-packages (from ipython>=4.0.0->ipywidgets) (0.7.5)\n",
      "Requirement already satisfied: prompt-toolkit!=3.0.0,!=3.0.1,<3.1.0,>=2.0.0 in /usr/local/lib/python3.10/dist-packages (from ipython>=4.0.0->ipywidgets) (3.0.45)\n",
      "Requirement already satisfied: pygments in /usr/local/lib/python3.10/dist-packages (from ipython>=4.0.0->ipywidgets) (2.16.1)\n",
      "Requirement already satisfied: backcall in /usr/local/lib/python3.10/dist-packages (from ipython>=4.0.0->ipywidgets) (0.2.0)\n",
      "Requirement already satisfied: matplotlib-inline in /usr/local/lib/python3.10/dist-packages (from ipython>=4.0.0->ipywidgets) (0.1.7)\n",
      "Requirement already satisfied: pexpect>4.3 in /usr/local/lib/python3.10/dist-packages (from ipython>=4.0.0->ipywidgets) (4.9.0)\n",
      "Requirement already satisfied: notebook>=4.4.1 in /usr/local/lib/python3.10/dist-packages (from widgetsnbextension~=3.6.0->ipywidgets) (6.5.5)\n",
      "Requirement already satisfied: parso<0.9.0,>=0.8.3 in /usr/local/lib/python3.10/dist-packages (from jedi>=0.16->ipython>=4.0.0->ipywidgets) (0.8.4)\n",
      "Requirement already satisfied: jinja2 in /usr/local/lib/python3.10/dist-packages (from notebook>=4.4.1->widgetsnbextension~=3.6.0->ipywidgets) (3.1.4)\n",
      "Requirement already satisfied: pyzmq<25,>=17 in /usr/local/lib/python3.10/dist-packages (from notebook>=4.4.1->widgetsnbextension~=3.6.0->ipywidgets) (24.0.1)\n",
      "Requirement already satisfied: argon2-cffi in /usr/local/lib/python3.10/dist-packages (from notebook>=4.4.1->widgetsnbextension~=3.6.0->ipywidgets) (23.1.0)\n",
      "Requirement already satisfied: jupyter-core>=4.6.1 in /usr/local/lib/python3.10/dist-packages (from notebook>=4.4.1->widgetsnbextension~=3.6.0->ipywidgets) (5.7.2)\n",
      "Requirement already satisfied: nbformat in /usr/local/lib/python3.10/dist-packages (from notebook>=4.4.1->widgetsnbextension~=3.6.0->ipywidgets) (5.10.4)\n",
      "Requirement already satisfied: nbconvert>=5 in /usr/local/lib/python3.10/dist-packages (from notebook>=4.4.1->widgetsnbextension~=3.6.0->ipywidgets) (6.5.4)\n",
      "Requirement already satisfied: nest-asyncio>=1.5 in /usr/local/lib/python3.10/dist-packages (from notebook>=4.4.1->widgetsnbextension~=3.6.0->ipywidgets) (1.6.0)\n",
      "Requirement already satisfied: Send2Trash>=1.8.0 in /usr/local/lib/python3.10/dist-packages (from notebook>=4.4.1->widgetsnbextension~=3.6.0->ipywidgets) (1.8.3)\n",
      "Requirement already satisfied: terminado>=0.8.3 in /usr/local/lib/python3.10/dist-packages (from notebook>=4.4.1->widgetsnbextension~=3.6.0->ipywidgets) (0.18.1)\n",
      "Requirement already satisfied: prometheus-client in /usr/local/lib/python3.10/dist-packages (from notebook>=4.4.1->widgetsnbextension~=3.6.0->ipywidgets) (0.20.0)\n",
      "Requirement already satisfied: nbclassic>=0.4.7 in /usr/local/lib/python3.10/dist-packages (from notebook>=4.4.1->widgetsnbextension~=3.6.0->ipywidgets) (1.1.0)\n",
      "Requirement already satisfied: python-dateutil>=2.1 in /usr/local/lib/python3.10/dist-packages (from jupyter-client->ipykernel>=4.5.1->ipywidgets) (2.8.2)\n",
      "Requirement already satisfied: ptyprocess>=0.5 in /usr/local/lib/python3.10/dist-packages (from pexpect>4.3->ipython>=4.0.0->ipywidgets) (0.7.0)\n",
      "Requirement already satisfied: wcwidth in /usr/local/lib/python3.10/dist-packages (from prompt-toolkit!=3.0.0,!=3.0.1,<3.1.0,>=2.0.0->ipython>=4.0.0->ipywidgets) (0.2.13)\n",
      "Requirement already satisfied: platformdirs>=2.5 in /usr/local/lib/python3.10/dist-packages (from jupyter-core>=4.6.1->notebook>=4.4.1->widgetsnbextension~=3.6.0->ipywidgets) (4.2.2)\n",
      "Requirement already satisfied: notebook-shim>=0.2.3 in /usr/local/lib/python3.10/dist-packages (from nbclassic>=0.4.7->notebook>=4.4.1->widgetsnbextension~=3.6.0->ipywidgets) (0.2.4)\n",
      "Requirement already satisfied: lxml in /usr/local/lib/python3.10/dist-packages (from nbconvert>=5->notebook>=4.4.1->widgetsnbextension~=3.6.0->ipywidgets) (4.9.4)\n",
      "Requirement already satisfied: beautifulsoup4 in /usr/local/lib/python3.10/dist-packages (from nbconvert>=5->notebook>=4.4.1->widgetsnbextension~=3.6.0->ipywidgets) (4.12.3)\n",
      "Requirement already satisfied: bleach in /usr/local/lib/python3.10/dist-packages (from nbconvert>=5->notebook>=4.4.1->widgetsnbextension~=3.6.0->ipywidgets) (6.1.0)\n",
      "Requirement already satisfied: defusedxml in /usr/local/lib/python3.10/dist-packages (from nbconvert>=5->notebook>=4.4.1->widgetsnbextension~=3.6.0->ipywidgets) (0.7.1)\n",
      "Requirement already satisfied: entrypoints>=0.2.2 in /usr/local/lib/python3.10/dist-packages (from nbconvert>=5->notebook>=4.4.1->widgetsnbextension~=3.6.0->ipywidgets) (0.4)\n",
      "Requirement already satisfied: jupyterlab-pygments in /usr/local/lib/python3.10/dist-packages (from nbconvert>=5->notebook>=4.4.1->widgetsnbextension~=3.6.0->ipywidgets) (0.3.0)\n",
      "Requirement already satisfied: MarkupSafe>=2.0 in /usr/local/lib/python3.10/dist-packages (from nbconvert>=5->notebook>=4.4.1->widgetsnbextension~=3.6.0->ipywidgets) (2.1.5)\n",
      "Requirement already satisfied: mistune<2,>=0.8.1 in /usr/local/lib/python3.10/dist-packages (from nbconvert>=5->notebook>=4.4.1->widgetsnbextension~=3.6.0->ipywidgets) (0.8.4)\n",
      "Requirement already satisfied: nbclient>=0.5.0 in /usr/local/lib/python3.10/dist-packages (from nbconvert>=5->notebook>=4.4.1->widgetsnbextension~=3.6.0->ipywidgets) (0.10.0)\n",
      "Requirement already satisfied: packaging in /usr/local/lib/python3.10/dist-packages (from nbconvert>=5->notebook>=4.4.1->widgetsnbextension~=3.6.0->ipywidgets) (24.0)\n",
      "Requirement already satisfied: pandocfilters>=1.4.1 in /usr/local/lib/python3.10/dist-packages (from nbconvert>=5->notebook>=4.4.1->widgetsnbextension~=3.6.0->ipywidgets) (1.5.1)\n",
      "Requirement already satisfied: tinycss2 in /usr/local/lib/python3.10/dist-packages (from nbconvert>=5->notebook>=4.4.1->widgetsnbextension~=3.6.0->ipywidgets) (1.3.0)\n",
      "Requirement already satisfied: fastjsonschema>=2.15 in /usr/local/lib/python3.10/dist-packages (from nbformat->notebook>=4.4.1->widgetsnbextension~=3.6.0->ipywidgets) (2.19.1)\n",
      "Requirement already satisfied: jsonschema>=2.6 in /usr/local/lib/python3.10/dist-packages (from nbformat->notebook>=4.4.1->widgetsnbextension~=3.6.0->ipywidgets) (4.19.2)\n",
      "Requirement already satisfied: six>=1.5 in /usr/local/lib/python3.10/dist-packages (from python-dateutil>=2.1->jupyter-client->ipykernel>=4.5.1->ipywidgets) (1.16.0)\n",
      "Requirement already satisfied: argon2-cffi-bindings in /usr/local/lib/python3.10/dist-packages (from argon2-cffi->notebook>=4.4.1->widgetsnbextension~=3.6.0->ipywidgets) (21.2.0)\n",
      "Requirement already satisfied: attrs>=22.2.0 in /usr/local/lib/python3.10/dist-packages (from jsonschema>=2.6->nbformat->notebook>=4.4.1->widgetsnbextension~=3.6.0->ipywidgets) (23.2.0)\n",
      "Requirement already satisfied: jsonschema-specifications>=2023.03.6 in /usr/local/lib/python3.10/dist-packages (from jsonschema>=2.6->nbformat->notebook>=4.4.1->widgetsnbextension~=3.6.0->ipywidgets) (2023.12.1)\n",
      "Requirement already satisfied: referencing>=0.28.4 in /usr/local/lib/python3.10/dist-packages (from jsonschema>=2.6->nbformat->notebook>=4.4.1->widgetsnbextension~=3.6.0->ipywidgets) (0.35.1)\n",
      "Requirement already satisfied: rpds-py>=0.7.1 in /usr/local/lib/python3.10/dist-packages (from jsonschema>=2.6->nbformat->notebook>=4.4.1->widgetsnbextension~=3.6.0->ipywidgets) (0.18.1)\n",
      "Requirement already satisfied: jupyter-server<3,>=1.8 in /usr/local/lib/python3.10/dist-packages (from notebook-shim>=0.2.3->nbclassic>=0.4.7->notebook>=4.4.1->widgetsnbextension~=3.6.0->ipywidgets) (1.24.0)\n",
      "Requirement already satisfied: cffi>=1.0.1 in /usr/local/lib/python3.10/dist-packages (from argon2-cffi-bindings->argon2-cffi->notebook>=4.4.1->widgetsnbextension~=3.6.0->ipywidgets) (1.16.0)\n",
      "Requirement already satisfied: soupsieve>1.2 in /usr/local/lib/python3.10/dist-packages (from beautifulsoup4->nbconvert>=5->notebook>=4.4.1->widgetsnbextension~=3.6.0->ipywidgets) (2.5)\n",
      "Requirement already satisfied: webencodings in /usr/local/lib/python3.10/dist-packages (from bleach->nbconvert>=5->notebook>=4.4.1->widgetsnbextension~=3.6.0->ipywidgets) (0.5.1)\n",
      "Requirement already satisfied: pycparser in /usr/local/lib/python3.10/dist-packages (from cffi>=1.0.1->argon2-cffi-bindings->argon2-cffi->notebook>=4.4.1->widgetsnbextension~=3.6.0->ipywidgets) (2.22)\n",
      "Requirement already satisfied: anyio<4,>=3.1.0 in /usr/local/lib/python3.10/dist-packages (from jupyter-server<3,>=1.8->notebook-shim>=0.2.3->nbclassic>=0.4.7->notebook>=4.4.1->widgetsnbextension~=3.6.0->ipywidgets) (3.7.1)\n",
      "Requirement already satisfied: websocket-client in /usr/local/lib/python3.10/dist-packages (from jupyter-server<3,>=1.8->notebook-shim>=0.2.3->nbclassic>=0.4.7->notebook>=4.4.1->widgetsnbextension~=3.6.0->ipywidgets) (1.8.0)\n",
      "Requirement already satisfied: idna>=2.8 in /usr/local/lib/python3.10/dist-packages (from anyio<4,>=3.1.0->jupyter-server<3,>=1.8->notebook-shim>=0.2.3->nbclassic>=0.4.7->notebook>=4.4.1->widgetsnbextension~=3.6.0->ipywidgets) (3.7)\n",
      "Requirement already satisfied: sniffio>=1.1 in /usr/local/lib/python3.10/dist-packages (from anyio<4,>=3.1.0->jupyter-server<3,>=1.8->notebook-shim>=0.2.3->nbclassic>=0.4.7->notebook>=4.4.1->widgetsnbextension~=3.6.0->ipywidgets) (1.3.1)\n",
      "Requirement already satisfied: exceptiongroup in /usr/local/lib/python3.10/dist-packages (from anyio<4,>=3.1.0->jupyter-server<3,>=1.8->notebook-shim>=0.2.3->nbclassic>=0.4.7->notebook>=4.4.1->widgetsnbextension~=3.6.0->ipywidgets) (1.2.1)\n",
      "Installing collected packages: jedi\n",
      "Successfully installed jedi-0.19.1\n"
     ]
    }
   ],
   "source": [
    "!pip install ipywidgets"
   ]
  },
  {
   "cell_type": "code",
   "execution_count": 139,
   "metadata": {
    "id": "Jd9qQSbjg7ck"
   },
   "outputs": [],
   "source": [
    "import io\n",
    "import ipywidgets as widgets\n",
    "from IPython.display import display, clear_output\n",
    "from torchvision import transforms\n",
    "from PIL import Image\n",
    "import torch\n",
    "import spacy\n",
    "\n",
    "# Load your Spacy model for tokenization\n",
    "eng = spacy.load(\"en_core_web_sm\")\n",
    "\n",
    "# Assume 'model', 'vocab', 'idx_to_classes' are already defined and loaded\n",
    "# Make sure to move your model to the appropriate device\n",
    "device = torch.device(\"cuda\" if torch.cuda.is_available() else \"cpu\")\n",
    "model.to(device)\n",
    "\n",
    "def preprocess_image(image_bytes, transform):\n",
    "    image = Image.open(io.BytesIO(image_bytes)).convert('RGB')\n",
    "    image = transform(image)\n",
    "    image = image.unsqueeze(0)  # Add batch dimension\n",
    "    image = image.to(device)\n",
    "    return image\n",
    "\n",
    "def preprocess_question(question, vocab, max_seq_len=20):\n",
    "    tokens = [token.text for token in eng.tokenizer(question)]\n",
    "    sequence = []\n",
    "    for token in tokens:\n",
    "        # Attempt to get the index of the token from vocab\n",
    "        # Fallback to a predefined index for unknown tokens if the token is not found\n",
    "        token_index = vocab[token] if token in vocab else vocab['<unk>']\n",
    "        sequence.append(token_index)\n",
    "    if len(sequence) < max_seq_len:\n",
    "        sequence += [vocab['<pad>']] * (max_seq_len - len(sequence))\n",
    "    else:\n",
    "        sequence = sequence[:max_seq_len]\n",
    "    question_tensor = torch.tensor(sequence).unsqueeze(0)  # Add batch dimension\n",
    "    question_tensor = question_tensor.to(device)\n",
    "    return question_tensor\n",
    "\n",
    "def predict_answer(model, image_bytes, question, transform, vocab, idx_to_classes, device):\n",
    "    model.eval()  # Set model to evaluation mode\n",
    "    with torch.no_grad():\n",
    "        image = preprocess_image(image_bytes, transform)\n",
    "        question_tensor = preprocess_question(question, vocab)\n",
    "\n",
    "        output = model(image, question_tensor)\n",
    "        prediction = output.argmax(dim=1).item()\n",
    "\n",
    "        answer = idx_to_classes[prediction]\n",
    "        return answer\n",
    "\n",
    "# Image transformation\n",
    "transform = transforms.Compose([\n",
    "    transforms.Resize((224, 224)),\n",
    "    transforms.ToTensor(),\n",
    "    transforms.Normalize((0.485, 0.456, 0.406), (0.229, 0.224, 0.225))\n",
    "])\n",
    "\n",
    "# Widgets setup\n",
    "uploader = widgets.FileUpload(accept='image/*', multiple=False)\n",
    "question_input = widgets.Text(placeholder='Type your question here', description='Question:', disabled=False)\n",
    "predict_button = widgets.Button(description=\"Predict\")\n",
    "clear_button = widgets.Button(description=\"Clear Image\")\n",
    "output_area = widgets.Output()\n",
    "\n",
    "def on_predict_button_clicked(b):\n",
    "    with output_area:\n",
    "        clear_output()\n",
    "        if not uploader.value:\n",
    "            print(\"No image uploaded!\")\n",
    "            return\n",
    "        if not question_input.value.strip():\n",
    "            print(\"Please enter a question.\")\n",
    "            return\n",
    "\n",
    "        # Display the uploaded image\n",
    "        image_info = next(iter(uploader.value.values()))\n",
    "        image_bytes = image_info['content']\n",
    "        image = Image.open(io.BytesIO(image_bytes))\n",
    "        display(image.resize((224, 224)))  # Resize for display purposes\n",
    "\n",
    "        # Predict the answer\n",
    "        question = question_input.value\n",
    "        answer = predict_answer(model, image_bytes, question, transform, vocab, idx_to_classes, device)\n",
    "\n",
    "        # Display the answer\n",
    "        print(f\"Answer: {answer}\")\n",
    "\n",
    "def on_clear_button_clicked(b):\n",
    "    # Clear the uploader widget and any displayed output\n",
    "    uploader.value.clear()\n",
    "    uploader._counter = 0\n",
    "    with output_area:\n",
    "        clear_output()\n",
    "        print(\"Image cleared. Upload a new image.\")\n",
    "\n",
    "predict_button.on_click(on_predict_button_clicked)\n",
    "clear_button.on_click(on_clear_button_clicked)"
   ]
  },
  {
   "cell_type": "code",
   "execution_count": 140,
   "metadata": {
    "id": "VLZ0txcshMYc"
   },
   "outputs": [],
   "source": [
    "def display_result (uploader, question_input, predict_button, clear_button, output_area):\n",
    "  # Display widgets\n",
    "  display(uploader, question_input, predict_button, clear_button, output_area)"
   ]
  },
  {
   "cell_type": "code",
   "execution_count": 141,
   "metadata": {
    "colab": {
     "base_uri": "https://localhost:8080/",
     "height": 387,
     "referenced_widgets": [
      "3a4d0902144e42359f0dc9ed0e419b8f",
      "8d34058f15b44ff29f757f06799f413c",
      "89cb2a271cf447f288f013cda3349c10",
      "1a170e38244c444394d780e6b2f880ff",
      "096400afefb0408586b9d8c89c5f9ef4",
      "a4fc17204bf24c3c8d86dd58eda2238c",
      "a712b1233077450184be70050e1ebc8f",
      "9f1e08c519444c4b8d26ecb71a85a648",
      "b518bc7932694ce7952a1e853a10dba4",
      "a727cb4c1d6b411aa6c3ecb8bcc665f4",
      "1b07713414044d768bc1f90c970cb880",
      "646e9bd8b1c443e4837430141b43bc9e",
      "e23996a9839948618723ef58599faa1d",
      "b58394863d9a483c95280361a2233bf3"
     ]
    },
    "id": "xi6T6oDfhPOh",
    "outputId": "136ebf1a-5bc4-4451-efc5-0bf14bb155e2"
   },
   "outputs": [
    {
     "data": {
      "application/vnd.jupyter.widget-view+json": {
       "model_id": "3a4d0902144e42359f0dc9ed0e419b8f",
       "version_major": 2,
       "version_minor": 0
      },
      "text/plain": [
       "FileUpload(value={}, accept='image/*', description='Upload')"
      ]
     },
     "metadata": {},
     "output_type": "display_data"
    },
    {
     "data": {
      "application/vnd.jupyter.widget-view+json": {
       "model_id": "1a170e38244c444394d780e6b2f880ff",
       "version_major": 2,
       "version_minor": 0
      },
      "text/plain": [
       "Text(value='', description='Question:', placeholder='Type your question here')"
      ]
     },
     "metadata": {},
     "output_type": "display_data"
    },
    {
     "data": {
      "application/vnd.jupyter.widget-view+json": {
       "model_id": "a712b1233077450184be70050e1ebc8f",
       "version_major": 2,
       "version_minor": 0
      },
      "text/plain": [
       "Button(description='Predict', style=ButtonStyle())"
      ]
     },
     "metadata": {},
     "output_type": "display_data"
    },
    {
     "data": {
      "application/vnd.jupyter.widget-view+json": {
       "model_id": "a727cb4c1d6b411aa6c3ecb8bcc665f4",
       "version_major": 2,
       "version_minor": 0
      },
      "text/plain": [
       "Button(description='Clear Image', style=ButtonStyle())"
      ]
     },
     "metadata": {},
     "output_type": "display_data"
    },
    {
     "data": {
      "application/vnd.jupyter.widget-view+json": {
       "model_id": "e23996a9839948618723ef58599faa1d",
       "version_major": 2,
       "version_minor": 0
      },
      "text/plain": [
       "Output()"
      ]
     },
     "metadata": {},
     "output_type": "display_data"
    }
   ],
   "source": [
    "display_result (uploader, question_input, predict_button, clear_button, output_area)"
   ]
  }
 ],
 "metadata": {
  "accelerator": "GPU",
  "colab": {
   "provenance": []
  },
  "kernelspec": {
   "display_name": "Python 3 (ipykernel)",
   "language": "python",
   "name": "python3"
  },
  "language_info": {
   "codemirror_mode": {
    "name": "ipython",
    "version": 3
   },
   "file_extension": ".py",
   "mimetype": "text/x-python",
   "name": "python",
   "nbconvert_exporter": "python",
   "pygments_lexer": "ipython3",
   "version": "3.11.7"
  },
  "widgets": {
   "application/vnd.jupyter.widget-state+json": {
    "096400afefb0408586b9d8c89c5f9ef4": {
     "model_module": "@jupyter-widgets/base",
     "model_module_version": "1.2.0",
     "model_name": "LayoutModel",
     "state": {
      "_model_module": "@jupyter-widgets/base",
      "_model_module_version": "1.2.0",
      "_model_name": "LayoutModel",
      "_view_count": null,
      "_view_module": "@jupyter-widgets/base",
      "_view_module_version": "1.2.0",
      "_view_name": "LayoutView",
      "align_content": null,
      "align_items": null,
      "align_self": null,
      "border": null,
      "bottom": null,
      "display": null,
      "flex": null,
      "flex_flow": null,
      "grid_area": null,
      "grid_auto_columns": null,
      "grid_auto_flow": null,
      "grid_auto_rows": null,
      "grid_column": null,
      "grid_gap": null,
      "grid_row": null,
      "grid_template_areas": null,
      "grid_template_columns": null,
      "grid_template_rows": null,
      "height": null,
      "justify_content": null,
      "justify_items": null,
      "left": null,
      "margin": null,
      "max_height": null,
      "max_width": null,
      "min_height": null,
      "min_width": null,
      "object_fit": null,
      "object_position": null,
      "order": null,
      "overflow": null,
      "overflow_x": null,
      "overflow_y": null,
      "padding": null,
      "right": null,
      "top": null,
      "visibility": null,
      "width": null
     }
    },
    "1a170e38244c444394d780e6b2f880ff": {
     "model_module": "@jupyter-widgets/controls",
     "model_module_version": "1.5.0",
     "model_name": "TextModel",
     "state": {
      "_dom_classes": [],
      "_model_module": "@jupyter-widgets/controls",
      "_model_module_version": "1.5.0",
      "_model_name": "TextModel",
      "_view_count": null,
      "_view_module": "@jupyter-widgets/controls",
      "_view_module_version": "1.5.0",
      "_view_name": "TextView",
      "continuous_update": true,
      "description": "Question:",
      "description_tooltip": null,
      "disabled": false,
      "layout": "IPY_MODEL_096400afefb0408586b9d8c89c5f9ef4",
      "placeholder": "Type your question here",
      "style": "IPY_MODEL_a4fc17204bf24c3c8d86dd58eda2238c",
      "value": "what is the largest rectangular object in this picture"
     }
    },
    "1b07713414044d768bc1f90c970cb880": {
     "model_module": "@jupyter-widgets/base",
     "model_module_version": "1.2.0",
     "model_name": "LayoutModel",
     "state": {
      "_model_module": "@jupyter-widgets/base",
      "_model_module_version": "1.2.0",
      "_model_name": "LayoutModel",
      "_view_count": null,
      "_view_module": "@jupyter-widgets/base",
      "_view_module_version": "1.2.0",
      "_view_name": "LayoutView",
      "align_content": null,
      "align_items": null,
      "align_self": null,
      "border": null,
      "bottom": null,
      "display": null,
      "flex": null,
      "flex_flow": null,
      "grid_area": null,
      "grid_auto_columns": null,
      "grid_auto_flow": null,
      "grid_auto_rows": null,
      "grid_column": null,
      "grid_gap": null,
      "grid_row": null,
      "grid_template_areas": null,
      "grid_template_columns": null,
      "grid_template_rows": null,
      "height": null,
      "justify_content": null,
      "justify_items": null,
      "left": null,
      "margin": null,
      "max_height": null,
      "max_width": null,
      "min_height": null,
      "min_width": null,
      "object_fit": null,
      "object_position": null,
      "order": null,
      "overflow": null,
      "overflow_x": null,
      "overflow_y": null,
      "padding": null,
      "right": null,
      "top": null,
      "visibility": null,
      "width": null
     }
    },
    "3a4d0902144e42359f0dc9ed0e419b8f": {
     "model_module": "@jupyter-widgets/controls",
     "model_module_version": "1.5.0",
     "model_name": "FileUploadModel",
     "state": {
      "_counter": 1,
      "_dom_classes": [],
      "_model_module": "@jupyter-widgets/controls",
      "_model_module_version": "1.5.0",
      "_model_name": "FileUploadModel",
      "_view_count": null,
      "_view_module": "@jupyter-widgets/controls",
      "_view_module_version": "1.5.0",
      "_view_name": "FileUploadView",
      "accept": "image/*",
      "button_style": "",
      "data": [
       null
      ],
      "description": "Upload",
      "description_tooltip": null,
      "disabled": false,
      "error": "",
      "icon": "upload",
      "layout": "IPY_MODEL_8d34058f15b44ff29f757f06799f413c",
      "metadata": [
       {
        "lastModified": 1655155976000,
        "name": "image1396.png",
        "size": 310175,
        "type": "image/png"
       }
      ],
      "multiple": false,
      "style": "IPY_MODEL_89cb2a271cf447f288f013cda3349c10"
     }
    },
    "646e9bd8b1c443e4837430141b43bc9e": {
     "model_module": "@jupyter-widgets/controls",
     "model_module_version": "1.5.0",
     "model_name": "ButtonStyleModel",
     "state": {
      "_model_module": "@jupyter-widgets/controls",
      "_model_module_version": "1.5.0",
      "_model_name": "ButtonStyleModel",
      "_view_count": null,
      "_view_module": "@jupyter-widgets/base",
      "_view_module_version": "1.2.0",
      "_view_name": "StyleView",
      "button_color": null,
      "font_weight": ""
     }
    },
    "89cb2a271cf447f288f013cda3349c10": {
     "model_module": "@jupyter-widgets/controls",
     "model_module_version": "1.5.0",
     "model_name": "ButtonStyleModel",
     "state": {
      "_model_module": "@jupyter-widgets/controls",
      "_model_module_version": "1.5.0",
      "_model_name": "ButtonStyleModel",
      "_view_count": null,
      "_view_module": "@jupyter-widgets/base",
      "_view_module_version": "1.2.0",
      "_view_name": "StyleView",
      "button_color": null,
      "font_weight": ""
     }
    },
    "8d34058f15b44ff29f757f06799f413c": {
     "model_module": "@jupyter-widgets/base",
     "model_module_version": "1.2.0",
     "model_name": "LayoutModel",
     "state": {
      "_model_module": "@jupyter-widgets/base",
      "_model_module_version": "1.2.0",
      "_model_name": "LayoutModel",
      "_view_count": null,
      "_view_module": "@jupyter-widgets/base",
      "_view_module_version": "1.2.0",
      "_view_name": "LayoutView",
      "align_content": null,
      "align_items": null,
      "align_self": null,
      "border": null,
      "bottom": null,
      "display": null,
      "flex": null,
      "flex_flow": null,
      "grid_area": null,
      "grid_auto_columns": null,
      "grid_auto_flow": null,
      "grid_auto_rows": null,
      "grid_column": null,
      "grid_gap": null,
      "grid_row": null,
      "grid_template_areas": null,
      "grid_template_columns": null,
      "grid_template_rows": null,
      "height": null,
      "justify_content": null,
      "justify_items": null,
      "left": null,
      "margin": null,
      "max_height": null,
      "max_width": null,
      "min_height": null,
      "min_width": null,
      "object_fit": null,
      "object_position": null,
      "order": null,
      "overflow": null,
      "overflow_x": null,
      "overflow_y": null,
      "padding": null,
      "right": null,
      "top": null,
      "visibility": null,
      "width": null
     }
    },
    "9f1e08c519444c4b8d26ecb71a85a648": {
     "model_module": "@jupyter-widgets/base",
     "model_module_version": "1.2.0",
     "model_name": "LayoutModel",
     "state": {
      "_model_module": "@jupyter-widgets/base",
      "_model_module_version": "1.2.0",
      "_model_name": "LayoutModel",
      "_view_count": null,
      "_view_module": "@jupyter-widgets/base",
      "_view_module_version": "1.2.0",
      "_view_name": "LayoutView",
      "align_content": null,
      "align_items": null,
      "align_self": null,
      "border": null,
      "bottom": null,
      "display": null,
      "flex": null,
      "flex_flow": null,
      "grid_area": null,
      "grid_auto_columns": null,
      "grid_auto_flow": null,
      "grid_auto_rows": null,
      "grid_column": null,
      "grid_gap": null,
      "grid_row": null,
      "grid_template_areas": null,
      "grid_template_columns": null,
      "grid_template_rows": null,
      "height": null,
      "justify_content": null,
      "justify_items": null,
      "left": null,
      "margin": null,
      "max_height": null,
      "max_width": null,
      "min_height": null,
      "min_width": null,
      "object_fit": null,
      "object_position": null,
      "order": null,
      "overflow": null,
      "overflow_x": null,
      "overflow_y": null,
      "padding": null,
      "right": null,
      "top": null,
      "visibility": null,
      "width": null
     }
    },
    "a4fc17204bf24c3c8d86dd58eda2238c": {
     "model_module": "@jupyter-widgets/controls",
     "model_module_version": "1.5.0",
     "model_name": "DescriptionStyleModel",
     "state": {
      "_model_module": "@jupyter-widgets/controls",
      "_model_module_version": "1.5.0",
      "_model_name": "DescriptionStyleModel",
      "_view_count": null,
      "_view_module": "@jupyter-widgets/base",
      "_view_module_version": "1.2.0",
      "_view_name": "StyleView",
      "description_width": ""
     }
    },
    "a712b1233077450184be70050e1ebc8f": {
     "model_module": "@jupyter-widgets/controls",
     "model_module_version": "1.5.0",
     "model_name": "ButtonModel",
     "state": {
      "_dom_classes": [],
      "_model_module": "@jupyter-widgets/controls",
      "_model_module_version": "1.5.0",
      "_model_name": "ButtonModel",
      "_view_count": null,
      "_view_module": "@jupyter-widgets/controls",
      "_view_module_version": "1.5.0",
      "_view_name": "ButtonView",
      "button_style": "",
      "description": "Predict",
      "disabled": false,
      "icon": "",
      "layout": "IPY_MODEL_9f1e08c519444c4b8d26ecb71a85a648",
      "style": "IPY_MODEL_b518bc7932694ce7952a1e853a10dba4",
      "tooltip": ""
     }
    },
    "a727cb4c1d6b411aa6c3ecb8bcc665f4": {
     "model_module": "@jupyter-widgets/controls",
     "model_module_version": "1.5.0",
     "model_name": "ButtonModel",
     "state": {
      "_dom_classes": [],
      "_model_module": "@jupyter-widgets/controls",
      "_model_module_version": "1.5.0",
      "_model_name": "ButtonModel",
      "_view_count": null,
      "_view_module": "@jupyter-widgets/controls",
      "_view_module_version": "1.5.0",
      "_view_name": "ButtonView",
      "button_style": "",
      "description": "Clear Image",
      "disabled": false,
      "icon": "",
      "layout": "IPY_MODEL_1b07713414044d768bc1f90c970cb880",
      "style": "IPY_MODEL_646e9bd8b1c443e4837430141b43bc9e",
      "tooltip": ""
     }
    },
    "b518bc7932694ce7952a1e853a10dba4": {
     "model_module": "@jupyter-widgets/controls",
     "model_module_version": "1.5.0",
     "model_name": "ButtonStyleModel",
     "state": {
      "_model_module": "@jupyter-widgets/controls",
      "_model_module_version": "1.5.0",
      "_model_name": "ButtonStyleModel",
      "_view_count": null,
      "_view_module": "@jupyter-widgets/base",
      "_view_module_version": "1.2.0",
      "_view_name": "StyleView",
      "button_color": null,
      "font_weight": ""
     }
    },
    "b58394863d9a483c95280361a2233bf3": {
     "model_module": "@jupyter-widgets/base",
     "model_module_version": "1.2.0",
     "model_name": "LayoutModel",
     "state": {
      "_model_module": "@jupyter-widgets/base",
      "_model_module_version": "1.2.0",
      "_model_name": "LayoutModel",
      "_view_count": null,
      "_view_module": "@jupyter-widgets/base",
      "_view_module_version": "1.2.0",
      "_view_name": "LayoutView",
      "align_content": null,
      "align_items": null,
      "align_self": null,
      "border": null,
      "bottom": null,
      "display": null,
      "flex": null,
      "flex_flow": null,
      "grid_area": null,
      "grid_auto_columns": null,
      "grid_auto_flow": null,
      "grid_auto_rows": null,
      "grid_column": null,
      "grid_gap": null,
      "grid_row": null,
      "grid_template_areas": null,
      "grid_template_columns": null,
      "grid_template_rows": null,
      "height": null,
      "justify_content": null,
      "justify_items": null,
      "left": null,
      "margin": null,
      "max_height": null,
      "max_width": null,
      "min_height": null,
      "min_width": null,
      "object_fit": null,
      "object_position": null,
      "order": null,
      "overflow": null,
      "overflow_x": null,
      "overflow_y": null,
      "padding": null,
      "right": null,
      "top": null,
      "visibility": null,
      "width": null
     }
    },
    "e23996a9839948618723ef58599faa1d": {
     "model_module": "@jupyter-widgets/output",
     "model_module_version": "1.0.0",
     "model_name": "OutputModel",
     "state": {
      "_dom_classes": [],
      "_model_module": "@jupyter-widgets/output",
      "_model_module_version": "1.0.0",
      "_model_name": "OutputModel",
      "_view_count": null,
      "_view_module": "@jupyter-widgets/output",
      "_view_module_version": "1.0.0",
      "_view_name": "OutputView",
      "layout": "IPY_MODEL_b58394863d9a483c95280361a2233bf3",
      "msg_id": "",
      "outputs": [
       {
        "data": {
         "image/png": "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\n",
         "text/plain": "<PIL.Image.Image image mode=RGB size=224x224>"
        },
        "metadata": {},
        "output_type": "display_data"
       },
       {
        "name": "stdout",
        "output_type": "stream",
        "text": [
         "Answer: window\n"
        ]
       }
      ]
     }
    }
   }
  }
 },
 "nbformat": 4,
 "nbformat_minor": 4
}
